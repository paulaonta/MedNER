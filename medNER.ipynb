{
  "cells": [
    {
      "cell_type": "markdown",
      "metadata": {
        "id": "0kiPhSy9iX6s"
      },
      "source": [
        "# MedNER\n",
        "---  \n",
        "  \n",
        "Medikuntzako NER sistema gainbegiratu bat egingo da.\n",
        "\n",
        "Horretarako, lehenik eta behin beharrezko liburutegiak inportatuko dira. Erabiliko da the Hugging Face Transformers liburutegia zeinak diseinatuta dagoen aurre-entrenatutako Transformer modeloak, BERT adibidez, erabiltzeko. Instalatzeko:\n"
      ]
    },
    {
      "cell_type": "code",
      "execution_count": 1,
      "metadata": {
        "colab": {
          "base_uri": "https://localhost:8080/"
        },
        "id": "Mm5TUujDedY_",
        "outputId": "c1d707e1-5112-4b08-da72-48cdd8cbabfc"
      },
      "outputs": [
        {
          "output_type": "stream",
          "name": "stdout",
          "text": [
            "Looking in indexes: https://pypi.org/simple, https://us-python.pkg.dev/colab-wheels/public/simple/\n",
            "Collecting transformers\n",
            "  Downloading transformers-4.25.1-py3-none-any.whl (5.8 MB)\n",
            "\u001b[K     |████████████████████████████████| 5.8 MB 22.9 MB/s \n",
            "\u001b[?25hRequirement already satisfied: filelock in /usr/local/lib/python3.8/dist-packages (from transformers) (3.8.0)\n",
            "Collecting tokenizers!=0.11.3,<0.14,>=0.11.1\n",
            "  Downloading tokenizers-0.13.2-cp38-cp38-manylinux_2_17_x86_64.manylinux2014_x86_64.whl (7.6 MB)\n",
            "\u001b[K     |████████████████████████████████| 7.6 MB 54.7 MB/s \n",
            "\u001b[?25hRequirement already satisfied: regex!=2019.12.17 in /usr/local/lib/python3.8/dist-packages (from transformers) (2022.6.2)\n",
            "Requirement already satisfied: requests in /usr/local/lib/python3.8/dist-packages (from transformers) (2.23.0)\n",
            "Requirement already satisfied: pyyaml>=5.1 in /usr/local/lib/python3.8/dist-packages (from transformers) (6.0)\n",
            "Collecting huggingface-hub<1.0,>=0.10.0\n",
            "  Downloading huggingface_hub-0.11.1-py3-none-any.whl (182 kB)\n",
            "\u001b[K     |████████████████████████████████| 182 kB 67.6 MB/s \n",
            "\u001b[?25hRequirement already satisfied: numpy>=1.17 in /usr/local/lib/python3.8/dist-packages (from transformers) (1.21.6)\n",
            "Requirement already satisfied: tqdm>=4.27 in /usr/local/lib/python3.8/dist-packages (from transformers) (4.64.1)\n",
            "Requirement already satisfied: packaging>=20.0 in /usr/local/lib/python3.8/dist-packages (from transformers) (21.3)\n",
            "Requirement already satisfied: typing-extensions>=3.7.4.3 in /usr/local/lib/python3.8/dist-packages (from huggingface-hub<1.0,>=0.10.0->transformers) (4.4.0)\n",
            "Requirement already satisfied: pyparsing!=3.0.5,>=2.0.2 in /usr/local/lib/python3.8/dist-packages (from packaging>=20.0->transformers) (3.0.9)\n",
            "Requirement already satisfied: chardet<4,>=3.0.2 in /usr/local/lib/python3.8/dist-packages (from requests->transformers) (3.0.4)\n",
            "Requirement already satisfied: idna<3,>=2.5 in /usr/local/lib/python3.8/dist-packages (from requests->transformers) (2.10)\n",
            "Requirement already satisfied: certifi>=2017.4.17 in /usr/local/lib/python3.8/dist-packages (from requests->transformers) (2022.9.24)\n",
            "Requirement already satisfied: urllib3!=1.25.0,!=1.25.1,<1.26,>=1.21.1 in /usr/local/lib/python3.8/dist-packages (from requests->transformers) (1.24.3)\n",
            "Installing collected packages: tokenizers, huggingface-hub, transformers\n",
            "Successfully installed huggingface-hub-0.11.1 tokenizers-0.13.2 transformers-4.25.1\n"
          ]
        }
      ],
      "source": [
        "!pip install transformers"
      ]
    },
    {
      "cell_type": "markdown",
      "metadata": {
        "id": "6zXg4dbSjaD2"
      },
      "source": [
        "Gainerako liburutegiak inportatuko dira:"
      ]
    },
    {
      "cell_type": "code",
      "execution_count": 2,
      "metadata": {
        "id": "HQRlV1R1jZco"
      },
      "outputs": [],
      "source": [
        "from transformers import BertModel, BertTokenizer, BertTokenizerFast, BertForTokenClassification\n",
        "from transformers import AutoTokenizer, AutoModelForMaskedLM\n",
        "import torch\n",
        "from tqdm import tqdm\n",
        "import torch.nn as nn\n",
        "import numpy as np\n",
        "import random\n",
        "import time\n",
        "import spacy\n",
        "import os"
      ]
    },
    {
      "cell_type": "markdown",
      "metadata": {
        "id": "a-m9mX-4jhe6"
      },
      "source": [
        "Konprobatuko da notebook-a GPUan exekutatzen dagoela (\"Running on cuda\" inprimatu beharko luke)."
      ]
    },
    {
      "cell_type": "code",
      "execution_count": 3,
      "metadata": {
        "colab": {
          "base_uri": "https://localhost:8080/"
        },
        "id": "QyKZu3smkaRB",
        "outputId": "2ce1f85d-b488-4d96-feac-1a877a905615"
      },
      "outputs": [
        {
          "output_type": "stream",
          "name": "stdout",
          "text": [
            "Running on cuda\n"
          ]
        }
      ],
      "source": [
        "device = torch.device(\"cuda\" if torch.cuda.is_available() else \"cpu\")\n",
        "print(\"Running on {}\".format(device))"
      ]
    },
    {
      "cell_type": "markdown",
      "metadata": {
        "id": "AlBYV_YydmAn"
      },
      "source": [
        "Datuak dituen direktoria erabiliko da:"
      ]
    },
    {
      "cell_type": "code",
      "execution_count": 4,
      "metadata": {
        "colab": {
          "base_uri": "https://localhost:8080/"
        },
        "id": "p4nx0eL5cuTd",
        "outputId": "58eb3624-52ef-4870-e823-b417b30b1eb8"
      },
      "outputs": [
        {
          "output_type": "stream",
          "name": "stdout",
          "text": [
            "Mounted at /content/drive\n",
            "/content/drive/MyDrive/universidad/4.CURSO/HP/PROIEKTUA/data\n"
          ]
        }
      ],
      "source": [
        "from google.colab import drive\n",
        "drive.mount('/content/drive')\n",
        "\n",
        "%cd \"/content/drive/MyDrive/universidad/4.CURSO/HP/PROIEKTUA/data/\""
      ]
    },
    {
      "cell_type": "markdown",
      "metadata": {
        "id": "Ggavyi8rs1Qv"
      },
      "source": [
        "## Datuak irakurri eta *train*, *dev* eta *test* partizioak egin\n",
        "\n",
        "Anotatutako corpus guztia *corpus_pubtator.txt* fitxategian dago.  Datu hauek PubTator formatuan daude. Zehazki kasu bakoitza honela dago errepresentatuta:\n",
        "  \n",
        "```\n",
        "PMID | t | Title text  \n",
        "PMID | a | Abstract text    \n",
        "PMID TAB StartIndex TAB EndIndex TAB MentionTextSegment TAB SemanticTypeID TAB EntityID\n",
        "...\n",
        "```\n",
        "\n",
        "Lehenengo bi lerroek izenburuko eta laburpeneko testuak aurkezten dituzte (lerro-jauzirik eta tabulaziorik gabe testuan). Hurrengo lerroek aipamenak aurkezten dituzte, lerro bakoitzeko bana. *StartIndex* eta *EndIndex* dokumentuaren testuan 0an oinarritutako karaktereen aurkibideak dira, Izenburua eta Laburpena kateatuz eraikiak, SPACE karaktere batez bereiziak. *MentionTextSegment* karaktere-posizio horien arteko benetako aipamena da. *EntityID* UMLS entitatearen id da (kontzeptua), eta *SemanticTypeID* entitatea UMLSen lotuta dagoen mota semantikoaren id da. UMLS entitate mota semantiko bati baino gehiagori lotuta badago, eremu honek komen arabera bereizitako zerrenda bat du ID mota guztiekin. 2017-AA bertsio aktiboan ez dauden UMLS kontzeptu guztiak *UnknownType* mota semantiko bereziari lotuta daude.  \n",
        "\n",
        "Jarraian adibide bat azaltzen da:\n",
        "```\n",
        "25763772|t|DCTN4 as a modifier of chronic Pseudomonas aeruginosa infection in cystic fibrosis\n",
        "25763772|a|Pseudomonas aeruginosa (Pa) infection in cystic fibrosis (CF) patients is associated with worse long-term pulmonary disease and shorter survival, and chronic Pa infection (CPA) is associated with reduced lung function, faster rate of lung decline, increased rates of exacerbations and shorter survival. By using exome sequencing and extreme phenotype design, it was recently shown that isoforms of dynactin 4 (DCTN4) may influence Pa infection in CF, leading to worse respiratory disease. The purpose of this study was to investigate the role of DCTN4 missense variants on Pa infection incidence, age at first Pa infection and chronic Pa infection incidence in a cohort of adult CF patients from a single centre. Polymerase chain reaction and direct sequencing were used to screen DNA samples for DCTN4 variants. A total of 121 adult CF patients from the Cochin Hospital CF centre have been included, all of them carrying two CFTR defects: 103 developed at least 1 pulmonary infection with Pa, and 68 patients of them had CPA. DCTN4 variants were identified in 24% (29/121) CF patients with Pa infection and in only 17% (3/18) CF patients with no Pa infection. Of the patients with CPA, 29% (20/68) had DCTN4 missense variants vs 23% (8/35) in patients without CPA. Interestingly, p.Tyr263Cys tend to be more frequently observed in CF patients with CPA than in patients without CPA (4/68 vs 0/35), and DCTN4 missense variants tend to be more frequent in male CF patients with CPA bearing two class II mutations than in male CF patients without CPA bearing two class II mutations (P = 0.06). Our observations reinforce that DCTN4 missense variants, especially p.Tyr263Cys, may be involved in the pathogenesis of CPA in male CF.\n",
        "25763772        0       5       DCTN4   T116,T123    C4308010\n",
        "25763772        23      63      chronic Pseudomonas aeruginosa infection        T047    C0854135\n",
        "25763772        67      82      cystic fibrosis T047    C0010674\n",
        "25763772        83      120     Pseudomonas aeruginosa (Pa) infection   T047    C0854135\n",
        "...\n",
        "```\n",
        "\n",
        "Bestalde, *train*, *dev* eta *test* partizioak *corpus_pubtator_pmids_trng.txt, corpus_pubtator_pmids_dev.txt, corpus_pubtator_pmids_test.txt* fitxategietan daude.  Hauek dokumentuaren  %60, %20, %20-ko ausazko partizioak dituzte, hurrenez hurren. Bakoitzean agertzen dira PMID kodeak zehaztuz bakoitzean dauden kasue kodeak.  \n",
        "\n",
        "Beraz, partizioak egingo dira dokumentu bana izateko *train*, *dev* eta *test* kasuetarako. Horretarako:\n",
        "1. Sortuko da fitxategi bana *train*, *dev* eta *test*-eko kasuak gordetzeko.\n",
        "2. Irakurriko dira *corpus_pubtator_pmids_trng.txt, corpus_pubtator_pmids_dev.txt, corpus_pubtator_pmids_test.txt* fitxategiak. Irakurtzen den kode bakoitzeko *corpus_pubtator.txt* fitxategian  dagoen kasu hori hartuko da eta dagokion fitxategian (*train*, *dev* edo *test*) kopiatuko da."
      ]
    },
    {
      "cell_type": "markdown",
      "metadata": {
        "id": "cMZGRDq3z4oZ"
      },
      "source": [
        "### Aldagai orokorrak definitu direktorioak gordetzeko"
      ]
    },
    {
      "cell_type": "code",
      "execution_count": 5,
      "metadata": {
        "id": "XXqtfs4as8J5"
      },
      "outputs": [],
      "source": [
        "data_directory = \"corpus_pubtator.txt\"\n",
        "\n",
        "train_directory = \"corpus_pubtator_pmids_trng.txt\"\n",
        "dev_directory = \"corpus_pubtator_pmids_dev.txt\"\n",
        "test_directory = \"corpus_pubtator_pmids_test.txt\"\n",
        "\n",
        "train_def_directory = \"corpus_pubtator_train.txt\"\n",
        "dev_def_directory = \"corpus_pubtator_dev.txt\"\n",
        "test_def_directory = \"corpus_pubtator_test.txt\""
      ]
    },
    {
      "cell_type": "markdown",
      "metadata": {
        "id": "D0-cQue30BA6"
      },
      "source": [
        "### Fitxategiak sortu"
      ]
    },
    {
      "cell_type": "code",
      "execution_count": 6,
      "metadata": {
        "id": "wanbVz6M0WTM"
      },
      "outputs": [],
      "source": [
        "def createFile(path):\n",
        "    if not os.path.exists(path):\n",
        "        os.makedirs(os.path.dirname(path), exist_ok=True)\n",
        "\n",
        "def createDirectory(path):\n",
        "    if not os.path.exists(path):\n",
        "        os.mkdir(path)\n",
        "\n",
        "createFile(\"./\" + train_def_directory)\n",
        "createFile(\"./\" + dev_def_directory)\n",
        "createFile(\"./\" + test_def_directory)"
      ]
    },
    {
      "cell_type": "markdown",
      "metadata": {
        "id": "dob-JaqL-_Bd"
      },
      "source": [
        "### Fitxategiak idatzi"
      ]
    },
    {
      "cell_type": "code",
      "execution_count": 7,
      "metadata": {
        "id": "mvGe0Mg3_E86"
      },
      "outputs": [],
      "source": [
        "def idatzi_kasua(write_directory, line):\n",
        "  with open(write_directory, \"a\") as f:\n",
        "    f.write(line)"
      ]
    },
    {
      "cell_type": "markdown",
      "metadata": {
        "id": "FbqcErWc0S8_"
      },
      "source": [
        "### Fitxategiak irakurri"
      ]
    },
    {
      "cell_type": "code",
      "execution_count": 8,
      "metadata": {
        "id": "zJNDk6cc6ntf"
      },
      "outputs": [],
      "source": [
        "def aurkitu_kasua(data_directory,write_directory, code):\n",
        "  aurkitu = False\n",
        "  with open(data_directory) as file:\n",
        "        for line in file:\n",
        "          if  \"|\" in line:\n",
        "            lines = line.split(\"|\")\n",
        "          else:\n",
        "            lines = line.split(\"\\t\")\n",
        "            \n",
        "          if lines[0] == code:\n",
        "            aurkitu = True\n",
        "            idatzi_kasua(write_directory, line)\n",
        "          elif aurkitu:\n",
        "            break\n",
        "\n",
        "def read_makePartitions_txt(filename, write_directory):\n",
        "    \n",
        "    \"\"\" Read input one by line \"\"\"\n",
        "    with open(filename) as file:\n",
        "        for line in file:\n",
        "            aurkitu_kasua(data_directory, write_directory, line.strip())"
      ]
    },
    {
      "cell_type": "code",
      "source": [
        "read_makePartitions_txt(train_directory, train_def_directory)\n",
        "read_makePartitions_txt(dev_directory, dev_def_directory)\n",
        "read_makePartitions_txt(test_directory, test_def_directory)"
      ],
      "metadata": {
        "id": "Ad6DKSUXugYC"
      },
      "execution_count": null,
      "outputs": []
    },
    {
      "cell_type": "markdown",
      "metadata": {
        "id": "1Brx5hHBoe7s"
      },
      "source": [
        "## Z1\n",
        "MedMentions corpusa erabiliz NER sistema orokor bat\n",
        "entrenatu, termino bat UMLSkoa den, hau da, osasunarekin zerikusia ote duen\n",
        "jakiteko. Hau da, terminoak identifikatu, klase bakarra irteeran duzularik\n",
        "(Medikuntzkoa edo MED).  \n",
        "\n",
        "[DCTN4] as a modifier of [chronic Pseudomonas aeruginosa infection] in\n",
        "[cystic fibrosis]"
      ]
    },
    {
      "cell_type": "markdown",
      "metadata": {
        "id": "0KzhfYxK8iBh"
      },
      "source": [
        "### BIO etiketatzea\n",
        "Z1 betetzeko, partizioak eginda daudela hauetan dauden kasuak MedMentions-eko formatutik BIO etiketatzera egokituko dira. Aurrerago erabiliko diren ereduek formatu hau eskatzen dutelako.     \n",
        "\n",
        "\n",
        "Etiketa bakarra egongo da, MED dena. Beraz, tokena entitate baten hasiera baldin bada B-MED etiketa jasoko du. I-MED izango du aldiz, entitatearen barruan baldin badago eta 0 ez bada entitate bat. Jarraian adibide bat aurkezten da:\n",
        "\n",
        "```\n",
        "[DCTN4] as a modifier of [chronic Pseudomonas aeruginosa infection] in [cystic fibrosis]\n",
        "\n",
        "B-MED O O O O B-MED I-MED I-MED I-MED O B-MED I-MED\n",
        "```\n",
        "\n",
        "Lehenik eta behin fitxategi berriak sortuko dira *train*, *dev* eta *test* partizio bakoitzeko kasuak BIO etiketatzean gordetzeko."
      ]
    },
    {
      "cell_type": "code",
      "execution_count": 9,
      "metadata": {
        "id": "B4HXnih0ka6x"
      },
      "outputs": [],
      "source": [
        "#Aldagai orokorrak\n",
        "train_BIO_directory_Z1 = \"corpus_BIO_train_Z1.txt\"\n",
        "dev_BIO_directory_Z1 = \"corpus_BIO_dev_Z1.txt\"\n",
        "test_BIO_directory_Z1 = \"corpus_BIO_test_Z1.txt\"\n",
        "\n",
        "#sortu fitxategiak\n",
        "createFile(\"./\" + train_BIO_directory_Z1)\n",
        "createFile(\"./\" + dev_BIO_directory_Z1)\n",
        "createFile(\"./\" + test_BIO_directory_Z1)"
      ]
    },
    {
      "cell_type": "markdown",
      "metadata": {
        "id": "7UylYigo_kld"
      },
      "source": [
        "Orain aurretik sortu diren fitxategiak (corpus_pubtator_train.txt, corpus_pubtator_test.txt eta corpus_pubtator_dev.txt) irakurri dira eta etiketatuko dira. Horretarako kasu bakoitzeko lehenengo bi lerroak irakurriko dira izenburua eta deskripzioa direnak, hain zuzen ere. Hauek etiketatuko dira O jarriz baldin eta hurrengo lerroetan ez badaude. Izan ere, lerro bana dago entitate bakoitzeko. Hasieran token guztiak 0 moduan etiketatuko dira eta gero, B-MED jarriko da baldin eta entitate baten hasiera bada eta I-MED entitate baten parte bada. Horretarako, hurrengo lerroak begiratuko dira eta aztertuko da *StartIndex*  eta *EndIndex* jakiteko zeintzuk diren entitateak.\n",
        "\n",
        "Bestalde, *SpaCy*-ko tokenizatzailea erabiliko da titulua eta abstracta tokenizatzeko. Gainera, *MentionTextSegment* hainbat hitzez osatuta egon daitekenez baita erabiliko da hau tokenizatzeko.\n",
        "\n",
        "SpaCy-ko inportak egingo eta tokenizatzailea definituko da:"
      ]
    },
    {
      "cell_type": "code",
      "source": [
        "# spaCy-ko lematizatzailea behar dugu baina gainerakoa kenduko dugu analisi-katetik\n",
        "nlp = spacy.load('en_core_web_sm', disable=['tagger,ner,parser'])\n",
        "nlp.remove_pipe('tagger')\n",
        "nlp.remove_pipe('ner')\n",
        "nlp.remove_pipe('parser');\n",
        "\n",
        "def tokenize(text):\n",
        "  new_text = \"\"\n",
        "  for t in text:\n",
        "    if t == \" \":\n",
        "      new_text += \"  \"\n",
        "    else:\n",
        "      new_text += t\n",
        "\n",
        "  spacy_tokens=[]\n",
        "  spacy_tokens.extend([token.text for token in nlp(new_text)])\n",
        "  return spacy_tokens\n"
      ],
      "metadata": {
        "id": "1JI8K1bkHeh4"
      },
      "execution_count": 10,
      "outputs": []
    },
    {
      "cell_type": "markdown",
      "source": [
        "Hurrengo funtzioek fitxategi bakoitza irakurri eta BIO moduan etiketatu egiten dute klase bat daukagula bakarrik. Horretarako hainbat gauza kontutan hartzen dira:\n",
        "\n",
        "*   Token bat bi aldiz etiketatu egon daiteke modu desberdinetan. Adibidez, olive orchards agertzen da kasu bateko abstract-ean. Kasu horretan, olive  eta olive orchards daude entitate moduan etiketatuta. Beraz, biak sartu behar dira. Kasu honetan, eskatzen du olive orchards entitatea sortzea eta sartzea, olive  entitatearen ondoren. \n",
        "* Aurrekoaren kontrakoa. Entitate bat hainbat tokenez osatuta dagoenean batzuetan horietako token bat baita dago etiketatuta entitate indibidual moduan. Adibidez, melanoma  tumors agertzen da kasu bateko abstract-ean. Kasu horretan, melanoma tumors  eta tumors daude entitate moduan etiketatuta. Beraz, biak sartu behar dira. Kasu honetan, eskatzen du tumors entitatea sortzea eta  sartzea, melanoma tumors entitatearen ondoren. \n",
        "\n",
        "\n"
      ],
      "metadata": {
        "id": "7LugtzNq1ayF"
      }
    },
    {
      "cell_type": "code",
      "source": [
        "def idatzi_entitateak(entitate_guztiak, write_directory):\n",
        "  for entitatea in entitate_guztiak:\n",
        "    if entitatea[0] != \" \":\n",
        "      text = entitatea[0] + \"\\t\" + entitatea[3] + \"\\n\"\n",
        "      idatzi_kasua(write_directory, text)\n",
        "  saltoa = \"      \\n\" #lerro saltoa\n",
        "  idatzi_kasua(write_directory, saltoa)\n"
      ],
      "metadata": {
        "id": "it6JD7ZXp9op"
      },
      "execution_count": 11,
      "outputs": []
    },
    {
      "cell_type": "code",
      "source": [
        "def readBIO_Z1_txt(filename, write_directory):\n",
        "    \n",
        "    \"\"\" Read input one by line \"\"\"\n",
        "    with open(filename) as file:\n",
        "        lines = \"\" #it  will contain the tittle and abstract\n",
        "        entitate_guztiak = []\n",
        "        cont = 0\n",
        "        cont_len = 0\n",
        "        for line in file:\n",
        "          if  \"|\" in line:\n",
        "            if cont % 2 == 0 and cont != 0:\n",
        "              #idatzi\n",
        "              idatzi_entitateak(entitate_guztiak, write_directory)\n",
        "              entitate_guztiak = []\n",
        "              lines = \"\"           \n",
        "              cont_len = 0   \n",
        "            cont += 1\n",
        "            text_ta = (line.split(\"|\")[2]).split(\"\\n\")[0]\n",
        "            tokenizatu_text_ta = tokenize(text_ta+ \" \")\n",
        "            for t in tokenizatu_text_ta:\n",
        "              entitate_guztiak.append([t,cont_len , cont_len+len(t) ,\"O\"])\n",
        "              cont_len += len(t)\n",
        "            lines += text_ta + \" \"\n",
        "          else:\n",
        "            desk = line.split(\"\\t\")\n",
        "            index_start = int(desk[1])\n",
        "            index_end = int(desk[2])\n",
        "            entitate = lines[index_start:index_end]\n",
        "            entitate_tokenizatu = tokenize(entitate)\n",
        "            first = True\n",
        "            for ent in entitate_tokenizatu:\n",
        "              if first:\n",
        "                if ent != \" \":\n",
        "                  try:\n",
        "                    index = entitate_guztiak.index([ent,index_start, index_start + len(ent), \"O\"])\n",
        "                    entitate_guztiak[index] = [ent,index_start, index_start + len(ent), \"B-MED\"]\n",
        "                    index_start += len(ent)\n",
        "                    first = False\n",
        "                  except:\n",
        "                    index += 1\n",
        "                    entitate_guztiak.insert(index, [ent, len(entitate_guztiak[index-1][0]), len(entitate_guztiak[index-1][0])+len(ent), \"B-MED\"])\n",
        "                    index_start += len(ent)\n",
        "                    first = False\n",
        "                else:\n",
        "                  index_start += 1\n",
        "              elif ent != \" \":\n",
        "                try:\n",
        "                  index = entitate_guztiak.index([ent,index_start, index_start +len(ent), \"O\"])\n",
        "                  entitate_guztiak[index] = [ent,index_start, index_start +len(ent), \"I-MED\"]\n",
        "                  index_start += len(ent)\n",
        "                except:\n",
        "                  index += 1\n",
        "                  entitate_guztiak.insert(index, [ent, len(entitate_guztiak[index-1][0]), len(entitate_guztiak[index-1][0])+len(ent), \"I-MED\"])\n",
        "                  index_start += len(ent)\n",
        "              else:\n",
        "                index_start += 1\n",
        "        #azkena\n",
        "        idatzi_entitateak(entitate_guztiak, write_directory)"
      ],
      "metadata": {
        "id": "ZJBktXUXpQwd"
      },
      "execution_count": 12,
      "outputs": []
    },
    {
      "cell_type": "code",
      "source": [
        "readBIO_Z1_txt(dev_def_directory ,dev_BIO_directory_Z1)\n",
        "readBIO_Z1_txt(test_def_directory ,test_BIO_directory_Z1)\n",
        "readBIO_Z1_txt(train_def_directory ,train_BIO_directory_Z1)"
      ],
      "metadata": {
        "id": "9a6Q_T1dVgTG",
        "colab": {
          "base_uri": "https://localhost:8080/"
        },
        "outputId": "7e4e15f4-cb3e-47a4-c7e2-153a7784bce6"
      },
      "execution_count": null,
      "outputs": [
        {
          "output_type": "stream",
          "name": "stderr",
          "text": [
            "/usr/local/lib/python3.8/dist-packages/spacy/pipeline/lemmatizer.py:211: UserWarning: [W108] The rule-based lemmatizer did not find POS annotation for one or more tokens. Check that your pipeline includes components that assign token.pos, typically 'tagger'+'attribute_ruler' or 'morphologizer'.\n",
            "  warnings.warn(Warnings.W108)\n"
          ]
        }
      ]
    },
    {
      "cell_type": "markdown",
      "source": [
        "### BIO moduan etiketatutako datuak irakurri\n",
        "\n",
        "Jarrain definituko dira funtzio batzuk aurretik etiketatu diren datuak irakurtzeko. Funtzio honek datuak irakurri eta esaldiz osatutako lista bat sortzen du.  Kasu bakoitza banatzeko lerro saltoa erabiliko da. Esaldi bakoitza tuplas osatutako lista bat da eta tupla bakoitz bi elementuz osatuta dago: hitza eta etiketa (O,B,I).\n"
      ],
      "metadata": {
        "id": "St_IisJWw5EH"
      }
    },
    {
      "cell_type": "code",
      "source": [
        "def read_txt(filename):    \n",
        "    sentences=[]\n",
        "    sentence=[]\n",
        "    with open(filename) as file:\n",
        "        for line in file:\n",
        "            cols=line.rstrip().split(\"\\t\")\n",
        "            if len(cols) < 2:\n",
        "                if len(sentence) > 0:\n",
        "                    sentences.append(sentence)\n",
        "                sentence=[]\n",
        "                continue\n",
        "                \n",
        "            word=cols[0]\n",
        "            tag=cols[1]\n",
        "            \n",
        "            sentence.append((word, tag))\n",
        "            \n",
        "        if len(sentence) > 0:\n",
        "            sentences.append(sentence)\n",
        "            \n",
        "    return sentences"
      ],
      "metadata": {
        "id": "_ntfw3JyyEPf"
      },
      "execution_count": 13,
      "outputs": []
    },
    {
      "cell_type": "code",
      "source": [
        "trainDataZ1 = read_txt(train_BIO_directory_Z1)\n",
        "devDataZ1 = read_txt(dev_BIO_directory_Z1)\n",
        "testDataZ1 = read_txt(test_BIO_directory_Z1)"
      ],
      "metadata": {
        "id": "Xt7uNl1bycz7"
      },
      "execution_count": 14,
      "outputs": []
    },
    {
      "cell_type": "markdown",
      "source": [
        "Ikusiko da egitura egokia dela, hau da, aurretik aipatuta egitura duela:"
      ],
      "metadata": {
        "id": "Yi-EguadzBdU"
      }
    },
    {
      "cell_type": "code",
      "source": [
        "print(trainDataZ1[0])\n",
        "print(len(trainDataZ1))\n",
        "print(len(devDataZ1))\n",
        "print(len(testDataZ1))"
      ],
      "metadata": {
        "colab": {
          "base_uri": "https://localhost:8080/"
        },
        "id": "dpKcsMH7zH7G",
        "outputId": "ea4de8d0-d59b-4125-ea2f-ac8a7b924bf8"
      },
      "execution_count": 15,
      "outputs": [
        {
          "output_type": "stream",
          "name": "stdout",
          "text": [
            "[('An', 'O'), ('S116R', 'B-MED'), ('Phosphorylation', 'I-MED'), ('Site', 'I-MED'), ('Mutation', 'B-MED'), ('in', 'O'), ('Human', 'B-MED'), ('Fibroblast', 'B-MED'), ('Growth', 'I-MED'), ('Factor-1', 'I-MED'), ('Differentially', 'O'), ('Affects', 'O'), ('Mitogenic', 'B-MED'), ('and', 'O'), ('Glucose', 'B-MED'), ('-', 'I-MED'), ('Lowering', 'I-MED'), ('Activities', 'I-MED'), ('Fibroblast', 'B-MED'), ('growth', 'I-MED'), ('factor-1', 'I-MED'), ('(', 'O'), ('FGF-1', 'B-MED'), (')', 'O'), (',', 'O'), ('a', 'O'), ('potent', 'O'), ('human', 'B-MED'), ('mitogen', 'B-MED'), ('and', 'O'), ('insulin', 'B-MED'), ('sensitizer', 'O'), (',', 'O'), ('signals', 'B-MED'), ('through', 'O'), ('both', 'O'), ('tyrosine', 'B-MED'), ('kinase', 'I-MED'), ('receptor', 'I-MED'), ('-mediated', 'O'), ('autocrine', 'B-MED'), ('/', 'O'), ('paracrine', 'B-MED'), ('pathways', 'I-MED'), ('as', 'O'), ('well', 'O'), ('as', 'O'), ('a', 'O'), ('nuclear', 'B-MED'), ('intracrine', 'B-MED'), ('pathway', 'I-MED'), ('.', 'O'), ('Phosphorylation', 'B-MED'), ('of', 'O'), ('FGF-1', 'B-MED'), ('at', 'O'), ('serine', 'B-MED'), ('116', 'I-MED'), ('(', 'O'), ('S116', 'B-MED'), (')', 'O'), ('has', 'O'), ('been', 'O'), ('proposed', 'O'), ('to', 'O'), ('regulate', 'B-MED'), ('intracrine', 'B-MED'), ('signaling', 'I-MED'), ('.', 'O'), ('Position', 'O'), ('S116', 'B-MED'), ('is', 'O'), ('located', 'O'), ('within', 'O'), ('a', 'O'), ('∼17', 'O'), ('amino', 'B-MED'), ('acid', 'I-MED'), ('C', 'I-MED'), ('-', 'I-MED'), ('terminal', 'I-MED'), ('loop', 'I-MED'), ('that', 'O'), ('contains', 'O'), ('a', 'O'), ('rich', 'O'), ('set', 'O'), ('of', 'O'), ('functional', 'B-MED'), ('determinants', 'I-MED'), ('including', 'O'), ('heparin', 'B-MED'), ('∖', 'O'), ('heparan', 'B-MED'), ('sulfate', 'I-MED'), ('affinity', 'B-MED'), (',', 'O'), ('thiol', 'B-MED'), ('reactivity', 'B-MED'), (',', 'O'), ('nuclear', 'B-MED'), ('localization', 'I-MED'), (',', 'O'), ('pharmacokinetics', 'B-MED'), (',', 'O'), ('functional', 'B-MED'), ('half', 'B-MED'), ('-', 'I-MED'), ('life', 'I-MED'), (',', 'O'), ('nuclear', 'B-MED'), ('ligand', 'B-MED'), ('affinity', 'B-MED'), (',', 'O'), ('stability', 'B-MED'), (',', 'O'), ('and', 'O'), ('structural', 'B-MED'), ('dynamics', 'I-MED'), ('.', 'O'), ('Mutational', 'B-MED'), ('targeting', 'B-MED'), ('of', 'O'), ('specific', 'O'), ('functionality', 'O'), ('in', 'O'), ('this', 'O'), ('region', 'O'), ('without', 'O'), ('perturbing', 'B-MED'), ('other', 'O'), ('functional', 'B-MED'), ('determinants', 'I-MED'), ('is', 'O'), ('a', 'O'), ('design', 'O'), ('challenge', 'O'), ('.', 'O'), ('S116R', 'B-MED'), ('is', 'O'), ('a', 'O'), ('non', 'B-MED'), ('-', 'I-MED'), ('phosphorylatable', 'I-MED'), ('variant', 'B-MED'), ('present', 'O'), ('in', 'O'), ('bovine', 'B-MED'), ('FGF-1', 'B-MED'), ('and', 'O'), ('other', 'O'), ('members', 'O'), ('of', 'O'), ('the', 'O'), ('human', 'B-MED'), ('FGF', 'B-MED'), ('family', 'I-MED'), ('.', 'O'), ('We', 'O'), ('show', 'O'), ('that', 'O'), ('the', 'O'), ('S116R', 'B-MED'), ('mutation', 'I-MED'), ('in', 'O'), ('human', 'B-MED'), ('FGF-1', 'B-MED'), ('is', 'O'), ('accommodated', 'O'), ('with', 'O'), ('no', 'O'), ('perturbation', 'B-MED'), ('of', 'O'), ('biophysical', 'B-MED'), ('or', 'O'), ('structural', 'B-MED'), ('properties', 'O'), (',', 'O'), ('and', 'O'), ('is', 'O'), ('therefore', 'O'), ('an', 'O'), ('attractive', 'B-MED'), ('mutation', 'B-MED'), ('with', 'O'), ('which', 'O'), ('to', 'O'), ('elucidate', 'O'), ('the', 'O'), ('functional', 'B-MED'), ('role', 'O'), ('of', 'O'), ('phosphorylation', 'B-MED'), ('.', 'O'), ('Characterization', 'B-MED'), ('of', 'O'), ('S116R', 'B-MED'), ('shows', 'O'), ('reduction', 'O'), ('in', 'O'), ('NIH', 'B-MED'), ('3T3', 'I-MED'), ('fibroblast', 'B-MED'), ('mitogenic', 'B-MED'), ('stimulation', 'I-MED'), (',', 'O'), ('increase', 'B-MED'), ('in', 'O'), ('fibroblast', 'B-MED'), ('growth', 'I-MED'), ('factor', 'I-MED'), ('receptor-1c', 'I-MED'), ('activation', 'B-MED'), (',', 'O'), ('and', 'O'), ('prolonged', 'O'), ('duration', 'O'), ('of', 'O'), ('glucose', 'B-MED'), ('lowering', 'I-MED'), ('in', 'O'), ('ob', 'B-MED'), ('/', 'I-MED'), ('ob', 'I-MED'), ('hyperglycemic', 'B-MED'), ('mice', 'B-MED'), ('.', 'O'), ('A', 'O'), ('novel', 'B-MED'), ('FGF-1', 'B-MED'), ('/', 'O'), ('fibroblast', 'B-MED'), ('growth', 'I-MED'), ('factor', 'I-MED'), ('receptor-1c', 'I-MED'), ('dimerization', 'B-MED'), ('interaction', 'B-MED'), ('combined', 'B-MED'), ('with', 'O'), ('non', 'B-MED'), ('-', 'I-MED'), ('phosphorylatable', 'I-MED'), ('intracrine', 'B-MED'), ('signaling', 'I-MED'), ('is', 'O'), ('hypothesized', 'O'), ('to', 'O'), ('be', 'O'), ('responsible', 'O'), ('for', 'O'), ('these', 'O'), ('observed', 'B-MED'), ('functional', 'O'), ('effects', 'O'), ('.', 'O')]\n",
            "2635\n",
            "878\n",
            "879\n"
          ]
        }
      ]
    },
    {
      "cell_type": "markdown",
      "source": [
        "Orain, entrenamendu-datuetan jaso ahal diren etiketa guztie indize bat eman zaie, hurrengo datu-egitura sortuz: hiztegi bat etiketekin eta indizearekin, eta alderantzizko hiztegia indezeekin eta etiketekin.\n"
      ],
      "metadata": {
        "id": "Q7g2oINiCW6B"
      }
    },
    {
      "cell_type": "code",
      "source": [
        "def get_tag_vocab(sentences):\n",
        "    tags={}\n",
        "    tid=0\n",
        "    for sentence in sentences:\n",
        "        for word, tag in sentence:\n",
        "            if tag not in tags:\n",
        "                tags[tag]=tid\n",
        "                tid+=1\n",
        "    rev_tags={}\n",
        "    for t in tags:\n",
        "      rev_tags[tags[t]]=t\n",
        "\n",
        "    return tags,rev_tags\n",
        "\n",
        "tag_vocab,rev_tags=get_tag_vocab(trainDataZ1)\n",
        "\n",
        "print(tag_vocab)\n",
        "print(rev_tags)\n",
        "print(rev_tags[0])"
      ],
      "metadata": {
        "colab": {
          "base_uri": "https://localhost:8080/"
        },
        "id": "0_QhgAbxB-5s",
        "outputId": "92d5804a-3f37-42c0-9d8f-1b7e1b5b46f7"
      },
      "execution_count": 16,
      "outputs": [
        {
          "output_type": "stream",
          "name": "stdout",
          "text": [
            "{'O': 0, 'B-MED': 1, 'I-MED': 2}\n",
            "{0: 'O', 1: 'B-MED', 2: 'I-MED'}\n",
            "O\n"
          ]
        }
      ]
    },
    {
      "cell_type": "markdown",
      "source": [
        "\n",
        "###BERT-base sekuentzia-etiketatzailea definitzea\n",
        "\n",
        "Kasu honetan, tokenizatzailea eta transformerraren parametroak deskargatuko dira Transformers liburutegitik. Modeloak \"model_name\" zehatz batekin gordetzen dira.\n",
        "\n",
        "Mini-batchak tokenizatzailearen arabera antolatzen dira.\n",
        "\n",
        "Hugging Face (BertForTokenClassification) modeloa erabili beharrean, BERTek NERrako sekuentzia-sailkatzaile gisa funtzionatzeko kodea sartzen dugu. Arrazoia da tokenizazio azpihitzetik eratorritako konplikazioak agerian uztea.\n",
        "\n",
        "NER datasetek hitz bakoitzari BIO-formatuko etiketa bat ematen dion bitartean, BERT tokenizatzaileak hitz horiek token askotan bana ditzake. Horrela, etiketak egokitu behar ditugu sekuentzia tokenizatuaren luzera berriarekin bat etortzeko. Hau egiteko modu asko daude: jatorrizko hitzaren BIO etiketa dagozkion fitxa guztiei eslei dakieke, edo, bestela, BIO etiketa lehenengo azpihitzari esleitu, eta, aldi berean, etiketa berezi bat (-100) esleitu hitz horri dagozkion gainerako azpihitzei. Lehengo aukera erabiliko da, eta etiketak \"luzatuko\" dira jatorrizko hitz bakoitzari dagozkion azpihitz guztiei BIO etiketa bera emanez.\n",
        "\n",
        "Hona adibide bat:\n",
        "```\n",
        "input in sentences (3 tokens): \n",
        "\n",
        "                     words: Hello San Sebastian! \n",
        "                     tags:  O     B   I\n",
        "\n",
        "input as organized for batch_x and batch_adjusted_tags: \n",
        "\n",
        "                subwords:    [CLS] Hel #lo San Sebast #ian ! [SEP] [PAD] ... [PAD]\n",
        "                .word_ids(): None  0   0   1   2      2    2 None  None      None\n",
        "                tags:        -1    O   O   B   I      I    I -1    -1        -1    \n",
        "                \n",
        "                Note that -1 tags will be ignored when computing loss\n",
        "```\n"
      ],
      "metadata": {
        "id": "6NviTXeO25RL"
      }
    },
    {
      "cell_type": "code",
      "source": [
        "class BERTSequenceLabeler(nn.Module):\n",
        "\n",
        "    \n",
        "    def __init__(self, params):\n",
        "        super().__init__()\n",
        "    \n",
        "        self.model_name=params[\"model_name\"]\n",
        "        if self.model_name == \"microsoft/BiomedNLP-PubMedBERT-base-uncased-abstract-fulltext\" or self.model_name == \"dmis-lab/biobert-base-cased-v1.2\":\n",
        "          self.tokenizer = AutoTokenizer.from_pretrained(self.model_name)\n",
        "          self.bert = AutoModelForMaskedLM.from_pretrained(self.model_name)\n",
        "        else:\n",
        "          self.tokenizer = BertTokenizerFast.from_pretrained(self.model_name, do_lower_case=params[\"doLowerCase\"], do_basic_tokenize=False)\n",
        "          self.bert = BertModel.from_pretrained(self.model_name)\n",
        "        self.num_labels = params[\"label_length\"]\n",
        "\n",
        "        self.fc = nn.Linear(params[\"embedding_size\"], self.num_labels)\n",
        "\n",
        "    def forward(self, batch_x): \n",
        "    \n",
        "        bert_output = self.bert(input_ids=batch_x[\"input_ids\"],\n",
        "                         attention_mask=batch_x[\"attention_mask\"],\n",
        "                         token_type_ids=batch_x[\"token_type_ids\"],\n",
        "                         output_hidden_states=True)\n",
        "\n",
        "        bert_hidden_states = bert_output['hidden_states']\n",
        "\n",
        "        # Note that the hidden states of all layers are returned, hence the use of -1 to access the states of the top layer\n",
        "        out = bert_hidden_states[-1]\n",
        "        out = self.fc(out)\n",
        "\n",
        "        return out.squeeze()\n",
        "\n",
        "    def get_batches(self, all_data, batch_size=32, max_toks=256):\n",
        "            \n",
        "        \"\"\" Get batches for input x, y data, with data tokenized according to the BERT tokenizer \n",
        "            (and limited to a maximum number of BERT tokens \"\"\"\n",
        "\n",
        "        batches_x=[]\n",
        "        batches_y=[]\n",
        "        \n",
        "        for i in range(0, len(all_data), batch_size):\n",
        "\n",
        "            current_batch=[]\n",
        "\n",
        "            data=all_data[i:i+batch_size]       # returns a list of word,tag pairs\n",
        "            def extract_words(item):            # returns a list of words\n",
        "              return [word for word,tag in item]\n",
        "            def extract_tags(item):             # returns a list of tags\n",
        "              return [tag for word,tag in item]\n",
        "            sentences = [extract_words(item) for item in data]\n",
        "\n",
        "            # is_split_in_words=True, Tokenizer assumes input is already tokenized into words\n",
        "            # as the tokenizer returns subwords, the `batch_x.word_ids(i)` method returns the original word index of each subword \n",
        "            if self.model_name == \"microsoft/BiomedNLP-PubMedBERT-base-uncased-abstract-fulltext\" or self.model_name == \"dmis-lab/biobert-base-cased-v1.2\":\n",
        "              batch_x = self.tokenizer(sentences)\n",
        "            else:\n",
        "              batch_x = self.tokenizer(sentences, padding=True, truncation=True, return_tensors=\"pt\", max_length=max_toks, is_split_into_words=True)\n",
        "            \n",
        "\n",
        "            batch_adjusted_tags = []\n",
        "            for i, item in enumerate(data):    \n",
        "              word_ids = batch_x.word_ids(i)     \n",
        "              sentence = extract_words(item)\n",
        "              tags = extract_tags(item)\n",
        "              def get_tag_from_id(id,tags):\n",
        "                if id==None:\n",
        "                  return -1\n",
        "                else:\n",
        "                  return tag_vocab[tags[id]]\n",
        "              adjusted_tags = [get_tag_from_id(id,tags) for id in word_ids]\n",
        "              batch_adjusted_tags.append(adjusted_tags)\n",
        "\n",
        "            mapped_ids = batch_x.word_ids()\n",
        "\n",
        "            batches_x.append(batch_x.to(device))\n",
        "            batches_y.append(torch.LongTensor(batch_adjusted_tags).to(device))\n",
        "            \n",
        "        return batches_x, batches_y"
      ],
      "metadata": {
        "id": "pjJPKW5Usr_R"
      },
      "execution_count": 17,
      "outputs": []
    },
    {
      "cell_type": "markdown",
      "source": [
        "### Ebaluazioa\n",
        " **Evaluation** funtzioa definituko da. Funtzioak ez du accuracy kalkulatzen token bakoitzeko metrika hau ona ez baita. Honek ematen dituen emaitzak oso altuak dira gure datuetan ```O``` etiketa asko daudelako. Beraz, F1 metrika erabiliko da. Honek tokenen gainean egin beharrean entitate motadun-en\n",
        "gainean egiten du. Honela, ez dira emaitz hain altuak lortzen baina emaitzak errealistagoak dira ```O``` etiketak ez direlako zuzenean kontutan hartzen.  F1 metrikak *precision* eta *recall* metriken batezbesteko harmonikoa kalkulatzen du. Bi metrika horiek alderantzizko proportzionalak direnez F1 metrikaren bidez kalkulatu dezakegu *precision* eta *recall* metriken balioak zein onak diren. *precision* eta *recall* metriken definizioa eta kalkulua hurrengo argazkian ikus daiteke:\n",
        "\n",
        "![imagen.png](data:image/png;base64,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)\n",
        "\n",
        "**1.irudia.** *Precision* eta *recall* metriken definizioa eta kalkulatu\n",
        "\n",
        "Bestalde, F1 ebaluatzen denean bi gauza kontutan hartu behar dira:\n",
        "\n",
        "1.  Nola definitzen dugu sekuentziako hitz baterako aurreikusitako etiketa, gure ereduak azpi-hitzetarako etiketak baino ez badizkigu ematen? Lehen azpi-hitzerako aurreikusitako etiketa erabiliko dugu hitz osorako etiketa gisa, hitz baten ondorengo azpi-hitzen etiketak alde batera utzita.\n",
        " \n",
        "2.   Nola kalkulatzen dugu entitateen doitasuna eta estaldura? Entitateen kointzidentzia zehatza erabiliko da.  \n",
        "\n",
        "F1 formula honela kalkulatzen da:   $F1 = 2 \\frac{precision * recall}{precision + recall}$\n",
        "\n",
        "\n",
        "\n",
        "\n",
        " "
      ],
      "metadata": {
        "id": "t3wnFb-5b0bb"
      }
    },
    {
      "cell_type": "code",
      "source": [
        "def evaluateF1(model, x, y):\n",
        "    model.eval()\n",
        "    word_y = []\n",
        "    word_y_preds = []\n",
        "    with torch.no_grad():\n",
        "        for x, y in zip(x, y):\n",
        "            y_preds=model.forward(x)\n",
        "            y_preds=torch.argmax(y_preds, dim=2)\n",
        "            # Convert tags in subword tokens back to word-level sequences, \n",
        "            # extracting predicted tag from prediction for first subword of each word\n",
        "            for i in range(len(y_preds)):\n",
        "              word_ids = x.word_ids(i)\n",
        "              curr_y = []\n",
        "              curr_y_preds = []\n",
        "              prev_id = -100\n",
        "              assert len(y_preds[i])==len(y[i]) and len(y_preds[i]) == len(word_ids)\n",
        "              for id, y_label, y_preds_label in zip(word_ids, y[i], y_preds[i]):\n",
        "                if id is not None and id!=prev_id:\n",
        "                  prev_id = id\n",
        "                  y_label = int(y_label)\n",
        "                  y_preds_label = int(y_preds_label)\n",
        "                  curr_y.append(rev_tags[y_label])\n",
        "                  curr_y_preds.append(rev_tags[y_preds_label])\n",
        "              word_y.append(curr_y) \n",
        "              word_y_preds.append(curr_y_preds)\n",
        "\n",
        "    # compute precision, recall and F1 on the word level\n",
        "    precision, recall, F1 = calculateF1(word_y, word_y_preds)\n",
        "    return precision, recall, F1\n",
        "\n",
        "\n",
        "\n",
        "def calculateF1(gold_sequences, predicted_sequences):\n",
        "    \n",
        "    \"\"\" Function to calculate the precision, recall and F-score over labeled chunks in the gold and predicted\n",
        "    input sequences.  Each input parameter contains a list of label sequences (one label for each word in the\n",
        "    sentence). In the following example, `gold_sequences` and `predicted_sequences` both contain two sentences\n",
        "    (the first has 7 words/tags, and the second has 3 words/tags):\n",
        "    \n",
        "    gold_sequences=[[\"B-PER\", \"I-PER\", \"O\", \"O\", \"O\", \"O\", \"B-ORG\"], [\"O\", \"O\", \"O\"]]\n",
        "    predicted_sequences=[[\"B-PER\", \"O\", \"O\", \"O\", \"B-PER\", \"O\", \"B-ORG\"], [\"O\", \"O\", \"O\"]]\n",
        "    \n",
        "    Returns tuple of (precision, recall, F1-score)\n",
        "            for the example precision would be 1/3, recall 1/2, and F1 0.4\n",
        "    \n",
        "    \"\"\"\n",
        "    assert(len(gold_sequences) == len(predicted_sequences))\n",
        "\n",
        "    precision, precision_total, recall, recall_total = 0,0,0,0\n",
        "    for i in range(len(gold_sequences)):\n",
        "      for j in range(len(gold_sequences[i])):\n",
        "        if \"B-\" in gold_sequences[i][j]:\n",
        "          recall_total += 1\n",
        "\n",
        "        if \"-\"  in predicted_sequences[i][j]:\n",
        "          if \"B-\" in predicted_sequences[i][j]:\n",
        "            precision_total += 1\n",
        "          if gold_sequences[i][j] == predicted_sequences[i][j]:\n",
        "            if j!= len(gold_sequences[i])-1:\n",
        "              if \"I\" not in gold_sequences[i][j+1]:\n",
        "                precision += 1\n",
        "                recall += 1\n",
        "            else:\n",
        "              precision += 1\n",
        "              recall += 1\n",
        "    if precision_total == 0:\n",
        "      precision = 0\n",
        "    else:\n",
        "      precision /= precision_total\n",
        "    \n",
        "    if recall_total == 0:\n",
        "      recall = 0\n",
        "    else:\n",
        "      recall /= recall_total\n",
        "\n",
        "    if precision + recall == 0:\n",
        "      F1 = 0\n",
        "    else:\n",
        "      F1 = (2 * precision * recall)/(precision + recall)\n",
        "    return precision, recall, F1\n",
        "\n",
        "\n"
      ],
      "metadata": {
        "id": "N0gnfzZWpESo"
      },
      "execution_count": 18,
      "outputs": []
    },
    {
      "cell_type": "markdown",
      "source": [
        "### BERT orokorra doitu\n",
        "Datuak irakurrita, prozesatuta eta mini-batchak eta ebaluazio funtzioak ditugula. Aurre-entrenatutako BERT eredu orokor bat kargatuko da NER etiketatzea egiteko eta traineko datuekin doitu egingo dugu gure probleman hobeto egiten ikasteko. Gero dev-ekin hainbat aldiz konprobatuko da ondo egiten dela eta azkenik, test-ekin ebaluatuko da."
      ],
      "metadata": {
        "id": "SDmv2HL2qUld"
      }
    },
    {
      "cell_type": "code",
      "source": [
        "def train_and_evaluate(bert_model_name, model_filename, train_data, dev_data, label_length, embedding_size=768, doLowerCase=None, freezeBert=False, num_epochs=5): # eneko freeze bert\n",
        "\n",
        "  start_time=time.time()\n",
        "  bert_model = BERTSequenceLabeler(params={\"doLowerCase\": doLowerCase, \"model_name\": bert_model_name, \"embedding_size\":embedding_size, \"label_length\": label_length, \"freezeBert\": freezeBert})\n",
        "  bert_model.to(device)\n",
        "\n",
        "  batch_x, batch_y = bert_model.get_batches(train_data)\n",
        "  dev_batch_x, dev_batch_y = bert_model.get_batches(dev_data)\n",
        "\n",
        "  optimizer = torch.optim.Adam(bert_model.parameters(), lr=1e-5)\n",
        "  cross_entropy=nn.CrossEntropyLoss(ignore_index=-1)\n",
        "\n",
        "  best_dev_acc = 0.\n",
        "\n",
        "  for epoch in range(num_epochs):\n",
        "      bert_model.train()\n",
        "\n",
        "      # Train\n",
        "      for x, y in tqdm(list(zip(batch_x, batch_y))):\n",
        "          y_pred = bert_model.forward(x)\n",
        "          loss = cross_entropy(y_pred.view(-1, bert_model.num_labels), y.view(-1))\n",
        "          optimizer.zero_grad()\n",
        "          loss.backward()\n",
        "          optimizer.step()\n",
        "      \n",
        "      # Evaluate\n",
        "      bert_model.eval()\n",
        "      losses = []\n",
        "      for x,y in tqdm(list(zip(dev_batch_x, dev_batch_y))):\n",
        "        y_pred = bert_model.forward(x)\n",
        "        loss = cross_entropy(y_pred.view(-1, bert_model.num_labels), y.view(-1)).item()\n",
        "        losses.append(loss)\n",
        "      print('Avg dev loss: %.3f' % torch.mean(torch.tensor(losses)))\n",
        "\n",
        "      dev_precision, dev_recall, dev_F1=evaluateF1(bert_model, dev_batch_x, dev_batch_y)#F1 erabili\n",
        "      if epoch % 1 == 0:\n",
        "          print(\"Epoch %s, dev accuracy: %.3f,%.3f,%.3f\" % (epoch, dev_precision, dev_recall, dev_F1))\n",
        "          if dev_F1 > best_dev_acc:\n",
        "              torch.save(bert_model.state_dict(), model_filename)\n",
        "              best_dev_acc = dev_F1\n",
        "\n",
        "  print(\"\\nBest Performing Model achieves dev accuracy of :  %.3f,%.3f,%.3f\" % (dev_precision, dev_recall, dev_F1))\n",
        "  print(\"Time: %.3f seconds ---\" % (time.time() - start_time))"
      ],
      "metadata": {
        "id": "PE86n6A7tQjn"
      },
      "execution_count": 19,
      "outputs": []
    },
    {
      "cell_type": "markdown",
      "source": [
        "Tamaina desberdinetako BERT-ak daude, geruza kopuru desberdinekin (2, 4, 6, 8, 10) eta dimentsio desberdinekin (128, 256, 512). Zenbat eta txikiago izan azkarrago entrenatzen da baina lortzen diren emaitzak txarragoak dira. Beraz, erabaki da ez oso txikia eta ez oso handia den eredu bat erabiltzea. Modu honetan lortzen diren emaitzak nahiko onak izango dira denbora nahiko txikian. Zehazki, *bert-small* erabili da ezkutuko dimentsioa H=512 dena, 4 ezkutuko geruza L=4 eta 8 atentzio geruza A=8 dituena.\n",
        "\n",
        "Jarraian modelo hori erabili da epoch bakoitzeko *precision*, *recall* eta *F1* lortzen direlarik. F1, aipatu bezala, bi metrikak erlazionatzen dituenez hau erabili hau *best_dev_acc* bezala. "
      ],
      "metadata": {
        "id": "J6VO_gv8FQpe"
      }
    },
    {
      "cell_type": "code",
      "source": [
        "train_and_evaluate(\"google/bert_uncased_L-4_H-512_A-8\", \"ner-bert-small\" , trainDataZ1, devDataZ1, max(tag_vocab.values()) + 1, embedding_size=512, doLowerCase=True, num_epochs=50)"
      ],
      "metadata": {
        "colab": {
          "base_uri": "https://localhost:8080/",
          "height": 1000,
          "referenced_widgets": [
            "171e75e8e92643e29face0cac95eb331",
            "ceef25f5070242f1a9b50f3fe17747de",
            "170b96c3aefe4b1ea9a87a58c8a15ef8",
            "d9f6d52cc0e942189a53868d35748ad9",
            "35225c1806ec43758809b6a264dae0ca",
            "b3733cbf48c845e0a3a160810bca52d8",
            "235502c6079d4a309cf5c97ca6a3ce04",
            "58311249e05344e08bae64e5cf2774af",
            "4ba03b2a55a04f079838bde6974d47e3",
            "cfe495110dda479d9e6e59fc9a356aec",
            "4320c38ba45a46129472128e80ea644d",
            "682ae2258c894ff69a66a6c3e5b08810",
            "4672e927aeca49a69babae47e3b444cb",
            "93347882ebb74c5d82b1843c859fdf1a",
            "1e80965f84704cdca554c7ce10be82fa",
            "5a640ee1f4ff47469ec683655c068500",
            "784ea82479d347b58ba595392a6ef5ff",
            "ec55826eaf684384a5fafe5fda60c8b8",
            "fab91904fe704f268f6a03fcd1928f6c",
            "bc64d8fad89245bb951d6fd544d2172f",
            "f9728ce716a943eeb9b00ede73c879b5",
            "a0218bb909914431a3b5f14f16395d78",
            "4d6bbbcd6ffd4456a14652b90a797635",
            "32bc4340143b4b6095be20ff40e01a63",
            "8282722d6d6e498a824d22b07cb8544d",
            "cd42904b424f44bb96fc563ef834c8f7",
            "e8f131b001324748a783da48dbb28f57",
            "5ea90aa95d364b3e92831a3ba40ad101",
            "9f7e8ab0ed964ad3a70734c0b9657b6e",
            "32a05a42df77446a8ec19c77254a606d",
            "4c60e37a15c74869a36905cd0eb17eb9",
            "5bc58fa02c8a4ed79a1aad4137894bea",
            "9f4159fd40e343c69c3d23d0e4f5d009"
          ]
        },
        "id": "wdxxTUdPFT4x",
        "outputId": "f0940b80-871d-41a7-a4bf-d83ed26e406f"
      },
      "execution_count": 20,
      "outputs": [
        {
          "output_type": "display_data",
          "data": {
            "text/plain": [
              "Downloading:   0%|          | 0.00/232k [00:00<?, ?B/s]"
            ],
            "application/vnd.jupyter.widget-view+json": {
              "version_major": 2,
              "version_minor": 0,
              "model_id": "171e75e8e92643e29face0cac95eb331"
            }
          },
          "metadata": {}
        },
        {
          "output_type": "display_data",
          "data": {
            "text/plain": [
              "Downloading:   0%|          | 0.00/383 [00:00<?, ?B/s]"
            ],
            "application/vnd.jupyter.widget-view+json": {
              "version_major": 2,
              "version_minor": 0,
              "model_id": "682ae2258c894ff69a66a6c3e5b08810"
            }
          },
          "metadata": {}
        },
        {
          "output_type": "display_data",
          "data": {
            "text/plain": [
              "Downloading:   0%|          | 0.00/116M [00:00<?, ?B/s]"
            ],
            "application/vnd.jupyter.widget-view+json": {
              "version_major": 2,
              "version_minor": 0,
              "model_id": "4d6bbbcd6ffd4456a14652b90a797635"
            }
          },
          "metadata": {}
        },
        {
          "output_type": "stream",
          "name": "stderr",
          "text": [
            "Some weights of the model checkpoint at google/bert_uncased_L-4_H-512_A-8 were not used when initializing BertModel: ['cls.predictions.bias', 'cls.predictions.decoder.weight', 'cls.seq_relationship.weight', 'cls.predictions.decoder.bias', 'cls.predictions.transform.dense.bias', 'cls.predictions.transform.LayerNorm.weight', 'cls.predictions.transform.LayerNorm.bias', 'cls.seq_relationship.bias', 'cls.predictions.transform.dense.weight']\n",
            "- This IS expected if you are initializing BertModel from the checkpoint of a model trained on another task or with another architecture (e.g. initializing a BertForSequenceClassification model from a BertForPreTraining model).\n",
            "- This IS NOT expected if you are initializing BertModel from the checkpoint of a model that you expect to be exactly identical (initializing a BertForSequenceClassification model from a BertForSequenceClassification model).\n",
            "100%|██████████| 83/83 [00:20<00:00,  4.06it/s]\n",
            "100%|██████████| 28/28 [00:01<00:00, 14.31it/s]\n"
          ]
        },
        {
          "output_type": "stream",
          "name": "stdout",
          "text": [
            "Avg dev loss: 0.454\n",
            "Epoch 0, dev accuracy: 0.700,0.709,0.704\n"
          ]
        },
        {
          "output_type": "stream",
          "name": "stderr",
          "text": [
            "100%|██████████| 83/83 [00:17<00:00,  4.76it/s]\n",
            "100%|██████████| 28/28 [00:02<00:00, 13.87it/s]\n"
          ]
        },
        {
          "output_type": "stream",
          "name": "stdout",
          "text": [
            "Avg dev loss: 0.387\n",
            "Epoch 1, dev accuracy: 0.782,0.739,0.760\n"
          ]
        },
        {
          "output_type": "stream",
          "name": "stderr",
          "text": [
            "100%|██████████| 83/83 [00:17<00:00,  4.72it/s]\n",
            "100%|██████████| 28/28 [00:02<00:00, 13.90it/s]\n"
          ]
        },
        {
          "output_type": "stream",
          "name": "stdout",
          "text": [
            "Avg dev loss: 0.362\n",
            "Epoch 2, dev accuracy: 0.785,0.760,0.772\n"
          ]
        },
        {
          "output_type": "stream",
          "name": "stderr",
          "text": [
            "100%|██████████| 83/83 [00:17<00:00,  4.67it/s]\n",
            "100%|██████████| 28/28 [00:02<00:00, 13.63it/s]\n"
          ]
        },
        {
          "output_type": "stream",
          "name": "stdout",
          "text": [
            "Avg dev loss: 0.350\n",
            "Epoch 3, dev accuracy: 0.792,0.774,0.783\n"
          ]
        },
        {
          "output_type": "stream",
          "name": "stderr",
          "text": [
            "100%|██████████| 83/83 [00:18<00:00,  4.61it/s]\n",
            "100%|██████████| 28/28 [00:02<00:00, 13.35it/s]\n"
          ]
        },
        {
          "output_type": "stream",
          "name": "stdout",
          "text": [
            "Avg dev loss: 0.342\n",
            "Epoch 4, dev accuracy: 0.792,0.780,0.786\n"
          ]
        },
        {
          "output_type": "stream",
          "name": "stderr",
          "text": [
            "100%|██████████| 83/83 [00:18<00:00,  4.53it/s]\n",
            "100%|██████████| 28/28 [00:02<00:00, 13.11it/s]\n"
          ]
        },
        {
          "output_type": "stream",
          "name": "stdout",
          "text": [
            "Avg dev loss: 0.337\n",
            "Epoch 5, dev accuracy: 0.799,0.783,0.791\n"
          ]
        },
        {
          "output_type": "stream",
          "name": "stderr",
          "text": [
            "100%|██████████| 83/83 [00:18<00:00,  4.51it/s]\n",
            "100%|██████████| 28/28 [00:02<00:00, 13.14it/s]\n"
          ]
        },
        {
          "output_type": "stream",
          "name": "stdout",
          "text": [
            "Avg dev loss: 0.334\n",
            "Epoch 6, dev accuracy: 0.801,0.788,0.795\n"
          ]
        },
        {
          "output_type": "stream",
          "name": "stderr",
          "text": [
            "100%|██████████| 83/83 [00:18<00:00,  4.49it/s]\n",
            "100%|██████████| 28/28 [00:02<00:00, 12.98it/s]\n"
          ]
        },
        {
          "output_type": "stream",
          "name": "stdout",
          "text": [
            "Avg dev loss: 0.330\n",
            "Epoch 7, dev accuracy: 0.798,0.790,0.794\n"
          ]
        },
        {
          "output_type": "stream",
          "name": "stderr",
          "text": [
            "100%|██████████| 83/83 [00:18<00:00,  4.47it/s]\n",
            "100%|██████████| 28/28 [00:02<00:00, 13.23it/s]\n"
          ]
        },
        {
          "output_type": "stream",
          "name": "stdout",
          "text": [
            "Avg dev loss: 0.329\n",
            "Epoch 8, dev accuracy: 0.800,0.790,0.795\n"
          ]
        },
        {
          "output_type": "stream",
          "name": "stderr",
          "text": [
            "100%|██████████| 83/83 [00:18<00:00,  4.50it/s]\n",
            "100%|██████████| 28/28 [00:02<00:00, 12.99it/s]\n"
          ]
        },
        {
          "output_type": "stream",
          "name": "stdout",
          "text": [
            "Avg dev loss: 0.328\n",
            "Epoch 9, dev accuracy: 0.804,0.789,0.796\n"
          ]
        },
        {
          "output_type": "stream",
          "name": "stderr",
          "text": [
            "100%|██████████| 83/83 [00:18<00:00,  4.48it/s]\n",
            "100%|██████████| 28/28 [00:02<00:00, 13.00it/s]\n"
          ]
        },
        {
          "output_type": "stream",
          "name": "stdout",
          "text": [
            "Avg dev loss: 0.327\n",
            "Epoch 10, dev accuracy: 0.801,0.793,0.797\n"
          ]
        },
        {
          "output_type": "stream",
          "name": "stderr",
          "text": [
            "100%|██████████| 83/83 [00:18<00:00,  4.49it/s]\n",
            "100%|██████████| 28/28 [00:02<00:00, 13.09it/s]\n"
          ]
        },
        {
          "output_type": "stream",
          "name": "stdout",
          "text": [
            "Avg dev loss: 0.327\n",
            "Epoch 11, dev accuracy: 0.804,0.792,0.798\n"
          ]
        },
        {
          "output_type": "stream",
          "name": "stderr",
          "text": [
            "100%|██████████| 83/83 [00:18<00:00,  4.47it/s]\n",
            "100%|██████████| 28/28 [00:02<00:00, 13.01it/s]\n"
          ]
        },
        {
          "output_type": "stream",
          "name": "stdout",
          "text": [
            "Avg dev loss: 0.328\n",
            "Epoch 12, dev accuracy: 0.811,0.792,0.802\n"
          ]
        },
        {
          "output_type": "stream",
          "name": "stderr",
          "text": [
            "100%|██████████| 83/83 [00:18<00:00,  4.46it/s]\n",
            "100%|██████████| 28/28 [00:02<00:00, 12.98it/s]\n"
          ]
        },
        {
          "output_type": "stream",
          "name": "stdout",
          "text": [
            "Avg dev loss: 0.328\n",
            "Epoch 13, dev accuracy: 0.805,0.793,0.799\n"
          ]
        },
        {
          "output_type": "stream",
          "name": "stderr",
          "text": [
            "100%|██████████| 83/83 [00:18<00:00,  4.44it/s]\n",
            "100%|██████████| 28/28 [00:02<00:00, 12.85it/s]\n"
          ]
        },
        {
          "output_type": "stream",
          "name": "stdout",
          "text": [
            "Avg dev loss: 0.330\n",
            "Epoch 14, dev accuracy: 0.807,0.792,0.800\n"
          ]
        },
        {
          "output_type": "stream",
          "name": "stderr",
          "text": [
            "100%|██████████| 83/83 [00:18<00:00,  4.41it/s]\n",
            "100%|██████████| 28/28 [00:02<00:00, 12.84it/s]\n"
          ]
        },
        {
          "output_type": "stream",
          "name": "stdout",
          "text": [
            "Avg dev loss: 0.331\n",
            "Epoch 15, dev accuracy: 0.808,0.792,0.800\n"
          ]
        },
        {
          "output_type": "stream",
          "name": "stderr",
          "text": [
            "100%|██████████| 83/83 [00:18<00:00,  4.42it/s]\n",
            "100%|██████████| 28/28 [00:02<00:00, 12.82it/s]\n"
          ]
        },
        {
          "output_type": "stream",
          "name": "stdout",
          "text": [
            "Avg dev loss: 0.332\n",
            "Epoch 16, dev accuracy: 0.805,0.793,0.799\n"
          ]
        },
        {
          "output_type": "stream",
          "name": "stderr",
          "text": [
            "100%|██████████| 83/83 [00:18<00:00,  4.42it/s]\n",
            "100%|██████████| 28/28 [00:02<00:00, 12.82it/s]\n"
          ]
        },
        {
          "output_type": "stream",
          "name": "stdout",
          "text": [
            "Avg dev loss: 0.334\n",
            "Epoch 17, dev accuracy: 0.810,0.792,0.801\n"
          ]
        },
        {
          "output_type": "stream",
          "name": "stderr",
          "text": [
            "100%|██████████| 83/83 [00:18<00:00,  4.42it/s]\n",
            "100%|██████████| 28/28 [00:02<00:00, 12.86it/s]\n"
          ]
        },
        {
          "output_type": "stream",
          "name": "stdout",
          "text": [
            "Avg dev loss: 0.337\n",
            "Epoch 18, dev accuracy: 0.807,0.793,0.800\n"
          ]
        },
        {
          "output_type": "stream",
          "name": "stderr",
          "text": [
            "100%|██████████| 83/83 [00:18<00:00,  4.42it/s]\n",
            "100%|██████████| 28/28 [00:02<00:00, 12.83it/s]\n"
          ]
        },
        {
          "output_type": "stream",
          "name": "stdout",
          "text": [
            "Avg dev loss: 0.340\n",
            "Epoch 19, dev accuracy: 0.810,0.792,0.801\n"
          ]
        },
        {
          "output_type": "stream",
          "name": "stderr",
          "text": [
            "100%|██████████| 83/83 [00:18<00:00,  4.42it/s]\n",
            "100%|██████████| 28/28 [00:02<00:00, 12.86it/s]\n"
          ]
        },
        {
          "output_type": "stream",
          "name": "stdout",
          "text": [
            "Avg dev loss: 0.340\n",
            "Epoch 20, dev accuracy: 0.804,0.792,0.798\n"
          ]
        },
        {
          "output_type": "stream",
          "name": "stderr",
          "text": [
            "100%|██████████| 83/83 [00:18<00:00,  4.42it/s]\n",
            "100%|██████████| 28/28 [00:02<00:00, 12.84it/s]\n"
          ]
        },
        {
          "output_type": "stream",
          "name": "stdout",
          "text": [
            "Avg dev loss: 0.344\n",
            "Epoch 21, dev accuracy: 0.805,0.794,0.799\n"
          ]
        },
        {
          "output_type": "stream",
          "name": "stderr",
          "text": [
            "100%|██████████| 83/83 [00:18<00:00,  4.39it/s]\n",
            "100%|██████████| 28/28 [00:02<00:00, 12.74it/s]\n"
          ]
        },
        {
          "output_type": "stream",
          "name": "stdout",
          "text": [
            "Avg dev loss: 0.347\n",
            "Epoch 22, dev accuracy: 0.806,0.791,0.798\n"
          ]
        },
        {
          "output_type": "stream",
          "name": "stderr",
          "text": [
            "100%|██████████| 83/83 [00:18<00:00,  4.40it/s]\n",
            "100%|██████████| 28/28 [00:02<00:00, 12.79it/s]\n"
          ]
        },
        {
          "output_type": "stream",
          "name": "stdout",
          "text": [
            "Avg dev loss: 0.351\n",
            "Epoch 23, dev accuracy: 0.811,0.794,0.803\n"
          ]
        },
        {
          "output_type": "stream",
          "name": "stderr",
          "text": [
            "100%|██████████| 83/83 [00:18<00:00,  4.42it/s]\n",
            "100%|██████████| 28/28 [00:02<00:00, 12.83it/s]\n"
          ]
        },
        {
          "output_type": "stream",
          "name": "stdout",
          "text": [
            "Avg dev loss: 0.352\n",
            "Epoch 24, dev accuracy: 0.801,0.797,0.799\n"
          ]
        },
        {
          "output_type": "stream",
          "name": "stderr",
          "text": [
            "100%|██████████| 83/83 [00:18<00:00,  4.41it/s]\n",
            "100%|██████████| 28/28 [00:02<00:00, 12.81it/s]\n"
          ]
        },
        {
          "output_type": "stream",
          "name": "stdout",
          "text": [
            "Avg dev loss: 0.353\n",
            "Epoch 25, dev accuracy: 0.797,0.795,0.796\n"
          ]
        },
        {
          "output_type": "stream",
          "name": "stderr",
          "text": [
            "100%|██████████| 83/83 [00:18<00:00,  4.40it/s]\n",
            "100%|██████████| 28/28 [00:02<00:00, 12.73it/s]\n"
          ]
        },
        {
          "output_type": "stream",
          "name": "stdout",
          "text": [
            "Avg dev loss: 0.358\n",
            "Epoch 26, dev accuracy: 0.795,0.798,0.797\n"
          ]
        },
        {
          "output_type": "stream",
          "name": "stderr",
          "text": [
            "100%|██████████| 83/83 [00:18<00:00,  4.40it/s]\n",
            "100%|██████████| 28/28 [00:02<00:00, 12.80it/s]\n"
          ]
        },
        {
          "output_type": "stream",
          "name": "stdout",
          "text": [
            "Avg dev loss: 0.359\n",
            "Epoch 27, dev accuracy: 0.781,0.801,0.791\n"
          ]
        },
        {
          "output_type": "stream",
          "name": "stderr",
          "text": [
            "100%|██████████| 83/83 [00:18<00:00,  4.42it/s]\n",
            "100%|██████████| 28/28 [00:02<00:00, 12.87it/s]\n"
          ]
        },
        {
          "output_type": "stream",
          "name": "stdout",
          "text": [
            "Avg dev loss: 0.363\n",
            "Epoch 28, dev accuracy: 0.778,0.800,0.789\n"
          ]
        },
        {
          "output_type": "stream",
          "name": "stderr",
          "text": [
            "100%|██████████| 83/83 [00:18<00:00,  4.43it/s]\n",
            "100%|██████████| 28/28 [00:02<00:00, 12.85it/s]\n"
          ]
        },
        {
          "output_type": "stream",
          "name": "stdout",
          "text": [
            "Avg dev loss: 0.366\n",
            "Epoch 29, dev accuracy: 0.766,0.799,0.782\n"
          ]
        },
        {
          "output_type": "stream",
          "name": "stderr",
          "text": [
            "100%|██████████| 83/83 [00:18<00:00,  4.41it/s]\n",
            "100%|██████████| 28/28 [00:02<00:00, 12.73it/s]\n"
          ]
        },
        {
          "output_type": "stream",
          "name": "stdout",
          "text": [
            "Avg dev loss: 0.369\n",
            "Epoch 30, dev accuracy: 0.776,0.796,0.786\n"
          ]
        },
        {
          "output_type": "stream",
          "name": "stderr",
          "text": [
            "100%|██████████| 83/83 [00:18<00:00,  4.41it/s]\n",
            "100%|██████████| 28/28 [00:02<00:00, 12.89it/s]\n"
          ]
        },
        {
          "output_type": "stream",
          "name": "stdout",
          "text": [
            "Avg dev loss: 0.374\n",
            "Epoch 31, dev accuracy: 0.768,0.795,0.782\n"
          ]
        },
        {
          "output_type": "stream",
          "name": "stderr",
          "text": [
            "100%|██████████| 83/83 [00:18<00:00,  4.43it/s]\n",
            "100%|██████████| 28/28 [00:02<00:00, 12.86it/s]\n"
          ]
        },
        {
          "output_type": "stream",
          "name": "stdout",
          "text": [
            "Avg dev loss: 0.378\n",
            "Epoch 32, dev accuracy: 0.775,0.794,0.785\n"
          ]
        },
        {
          "output_type": "stream",
          "name": "stderr",
          "text": [
            "100%|██████████| 83/83 [00:18<00:00,  4.43it/s]\n",
            "100%|██████████| 28/28 [00:02<00:00, 12.86it/s]\n"
          ]
        },
        {
          "output_type": "stream",
          "name": "stdout",
          "text": [
            "Avg dev loss: 0.383\n",
            "Epoch 33, dev accuracy: 0.794,0.785,0.790\n"
          ]
        },
        {
          "output_type": "stream",
          "name": "stderr",
          "text": [
            "100%|██████████| 83/83 [00:18<00:00,  4.42it/s]\n",
            "100%|██████████| 28/28 [00:02<00:00, 12.89it/s]\n"
          ]
        },
        {
          "output_type": "stream",
          "name": "stdout",
          "text": [
            "Avg dev loss: 0.387\n",
            "Epoch 34, dev accuracy: 0.787,0.787,0.787\n"
          ]
        },
        {
          "output_type": "stream",
          "name": "stderr",
          "text": [
            "100%|██████████| 83/83 [00:18<00:00,  4.42it/s]\n",
            "100%|██████████| 28/28 [00:02<00:00, 12.96it/s]\n"
          ]
        },
        {
          "output_type": "stream",
          "name": "stdout",
          "text": [
            "Avg dev loss: 0.392\n",
            "Epoch 35, dev accuracy: 0.788,0.788,0.788\n"
          ]
        },
        {
          "output_type": "stream",
          "name": "stderr",
          "text": [
            "100%|██████████| 83/83 [00:18<00:00,  4.44it/s]\n",
            "100%|██████████| 28/28 [00:02<00:00, 12.87it/s]\n"
          ]
        },
        {
          "output_type": "stream",
          "name": "stdout",
          "text": [
            "Avg dev loss: 0.395\n",
            "Epoch 36, dev accuracy: 0.782,0.789,0.785\n"
          ]
        },
        {
          "output_type": "stream",
          "name": "stderr",
          "text": [
            "100%|██████████| 83/83 [00:18<00:00,  4.41it/s]\n",
            "100%|██████████| 28/28 [00:02<00:00, 12.73it/s]\n"
          ]
        },
        {
          "output_type": "stream",
          "name": "stdout",
          "text": [
            "Avg dev loss: 0.399\n",
            "Epoch 37, dev accuracy: 0.782,0.790,0.786\n"
          ]
        },
        {
          "output_type": "stream",
          "name": "stderr",
          "text": [
            "100%|██████████| 83/83 [00:18<00:00,  4.40it/s]\n",
            "100%|██████████| 28/28 [00:02<00:00, 12.74it/s]\n"
          ]
        },
        {
          "output_type": "stream",
          "name": "stdout",
          "text": [
            "Avg dev loss: 0.401\n",
            "Epoch 38, dev accuracy: 0.798,0.781,0.789\n"
          ]
        },
        {
          "output_type": "stream",
          "name": "stderr",
          "text": [
            "100%|██████████| 83/83 [00:18<00:00,  4.41it/s]\n",
            "100%|██████████| 28/28 [00:02<00:00, 12.76it/s]\n"
          ]
        },
        {
          "output_type": "stream",
          "name": "stdout",
          "text": [
            "Avg dev loss: 0.407\n",
            "Epoch 39, dev accuracy: 0.788,0.793,0.791\n"
          ]
        },
        {
          "output_type": "stream",
          "name": "stderr",
          "text": [
            "100%|██████████| 83/83 [00:18<00:00,  4.41it/s]\n",
            "100%|██████████| 28/28 [00:02<00:00, 12.83it/s]\n"
          ]
        },
        {
          "output_type": "stream",
          "name": "stdout",
          "text": [
            "Avg dev loss: 0.413\n",
            "Epoch 40, dev accuracy: 0.805,0.783,0.794\n"
          ]
        },
        {
          "output_type": "stream",
          "name": "stderr",
          "text": [
            "100%|██████████| 83/83 [00:18<00:00,  4.41it/s]\n",
            "100%|██████████| 28/28 [00:02<00:00, 12.85it/s]\n"
          ]
        },
        {
          "output_type": "stream",
          "name": "stdout",
          "text": [
            "Avg dev loss: 0.418\n",
            "Epoch 41, dev accuracy: 0.812,0.776,0.793\n"
          ]
        },
        {
          "output_type": "stream",
          "name": "stderr",
          "text": [
            "100%|██████████| 83/83 [00:18<00:00,  4.42it/s]\n",
            "100%|██████████| 28/28 [00:02<00:00, 12.85it/s]\n"
          ]
        },
        {
          "output_type": "stream",
          "name": "stdout",
          "text": [
            "Avg dev loss: 0.422\n",
            "Epoch 42, dev accuracy: 0.812,0.777,0.794\n"
          ]
        },
        {
          "output_type": "stream",
          "name": "stderr",
          "text": [
            "100%|██████████| 83/83 [00:18<00:00,  4.42it/s]\n",
            "100%|██████████| 28/28 [00:02<00:00, 12.87it/s]\n"
          ]
        },
        {
          "output_type": "stream",
          "name": "stdout",
          "text": [
            "Avg dev loss: 0.420\n",
            "Epoch 43, dev accuracy: 0.796,0.783,0.789\n"
          ]
        },
        {
          "output_type": "stream",
          "name": "stderr",
          "text": [
            "100%|██████████| 83/83 [00:18<00:00,  4.41it/s]\n",
            "100%|██████████| 28/28 [00:02<00:00, 12.82it/s]\n"
          ]
        },
        {
          "output_type": "stream",
          "name": "stdout",
          "text": [
            "Avg dev loss: 0.430\n",
            "Epoch 44, dev accuracy: 0.813,0.774,0.793\n"
          ]
        },
        {
          "output_type": "stream",
          "name": "stderr",
          "text": [
            "100%|██████████| 83/83 [00:18<00:00,  4.41it/s]\n",
            "100%|██████████| 28/28 [00:02<00:00, 12.80it/s]\n"
          ]
        },
        {
          "output_type": "stream",
          "name": "stdout",
          "text": [
            "Avg dev loss: 0.433\n",
            "Epoch 45, dev accuracy: 0.813,0.779,0.796\n"
          ]
        },
        {
          "output_type": "stream",
          "name": "stderr",
          "text": [
            "100%|██████████| 83/83 [00:18<00:00,  4.41it/s]\n",
            "100%|██████████| 28/28 [00:02<00:00, 12.87it/s]\n"
          ]
        },
        {
          "output_type": "stream",
          "name": "stdout",
          "text": [
            "Avg dev loss: 0.439\n",
            "Epoch 46, dev accuracy: 0.818,0.773,0.795\n"
          ]
        },
        {
          "output_type": "stream",
          "name": "stderr",
          "text": [
            "100%|██████████| 83/83 [00:18<00:00,  4.41it/s]\n",
            "100%|██████████| 28/28 [00:02<00:00, 12.80it/s]\n"
          ]
        },
        {
          "output_type": "stream",
          "name": "stdout",
          "text": [
            "Avg dev loss: 0.447\n",
            "Epoch 47, dev accuracy: 0.828,0.771,0.799\n"
          ]
        },
        {
          "output_type": "stream",
          "name": "stderr",
          "text": [
            "100%|██████████| 83/83 [00:18<00:00,  4.41it/s]\n",
            "100%|██████████| 28/28 [00:02<00:00, 12.77it/s]\n"
          ]
        },
        {
          "output_type": "stream",
          "name": "stdout",
          "text": [
            "Avg dev loss: 0.462\n",
            "Epoch 48, dev accuracy: 0.843,0.766,0.803\n"
          ]
        },
        {
          "output_type": "stream",
          "name": "stderr",
          "text": [
            "100%|██████████| 83/83 [00:18<00:00,  4.41it/s]\n",
            "100%|██████████| 28/28 [00:02<00:00, 12.82it/s]\n"
          ]
        },
        {
          "output_type": "stream",
          "name": "stdout",
          "text": [
            "Avg dev loss: 0.468\n",
            "Epoch 49, dev accuracy: 0.849,0.766,0.805\n",
            "\n",
            "Best Performing Model achieves dev accuracy of :  0.849,0.766,0.805\n",
            "Time: 1364.229 seconds ---\n"
          ]
        }
      ]
    },
    {
      "cell_type": "markdown",
      "source": [
        "Azkenik, test-ean probatuko dugu gure modelo hoberena. Horretarako:  \n",
        "\n",
        "\n",
        "1.   Aurre-entrenatutako modeloa hasieratuko dugu aurretik egin dugun moduan.\n",
        "2.   Parametroak berridatziko ditugu gordetako modeloa erabiliz,\n",
        "3. Gure modeloa ebaluatuko dugu test-eko datuak hartuz. Metrikak *precision*, *recall* eta *F1* dira hurrenez hurren.\n"
      ],
      "metadata": {
        "id": "cXKeWvUn8n3y"
      }
    },
    {
      "cell_type": "code",
      "source": [
        "bert=BERTSequenceLabeler(params={\"doLowerCase\": True, \"model_name\": \"google/bert_uncased_L-4_H-512_A-8\", \"embedding_size\":512, \"label_length\": max(tag_vocab.values())+1})\n",
        "bert.to(device)\n",
        "bert.load_state_dict(torch.load('ner-bert-small'))\n",
        "\n",
        "test_batch_x, test_batch_y = bert.get_batches(testDataZ1)\n",
        "test_precision, test_recall, test_F1 = evaluateF1(bert, test_batch_x, test_batch_y)\n",
        "print(\"\\nBest Performing Model achieves test accuracy of :  %.3f,%.3f,%.3f\" % (test_precision, test_recall, test_F1))\n",
        "\n",
        "'''\n",
        "train_batch_x, train_batch_y = bert.get_batches(trainDataZ1)\n",
        "train_precision, train_recall, train_F1 = evaluateF1(bert, train_batch_x, train_batch_y)\n",
        "print(\"\\nBest Performing Model achieves test accuracy of :  %.3f,%.3f,%.3f\" % (train_precision, train_recall, train_F1))\n",
        "\n",
        "dev_batch_x, dev_batch_y = bert.get_batches(devDataZ1)\n",
        "dev_precision, dev_recall, dev_F1 = evaluateF1(bert, dev_batch_x, dev_batch_y)\n",
        "print(\"\\nBest Performing Model achieves test accuracy of :  %.3f,%.3f,%.3f\" % (dev_precision, dev_recall, dev_F1))\n",
        "'''"
      ],
      "metadata": {
        "colab": {
          "base_uri": "https://localhost:8080/",
          "height": 177
        },
        "id": "dJvJrKwI8nFq",
        "outputId": "85a57c16-6396-4cbe-adc1-1e2f4ef29497"
      },
      "execution_count": 25,
      "outputs": [
        {
          "output_type": "stream",
          "name": "stderr",
          "text": [
            "Some weights of the model checkpoint at google/bert_uncased_L-4_H-512_A-8 were not used when initializing BertModel: ['cls.predictions.bias', 'cls.predictions.decoder.weight', 'cls.seq_relationship.weight', 'cls.predictions.decoder.bias', 'cls.predictions.transform.dense.bias', 'cls.predictions.transform.LayerNorm.weight', 'cls.predictions.transform.LayerNorm.bias', 'cls.seq_relationship.bias', 'cls.predictions.transform.dense.weight']\n",
            "- This IS expected if you are initializing BertModel from the checkpoint of a model trained on another task or with another architecture (e.g. initializing a BertForSequenceClassification model from a BertForPreTraining model).\n",
            "- This IS NOT expected if you are initializing BertModel from the checkpoint of a model that you expect to be exactly identical (initializing a BertForSequenceClassification model from a BertForSequenceClassification model).\n"
          ]
        },
        {
          "output_type": "stream",
          "name": "stdout",
          "text": [
            "\n",
            "Best Performing Model achieves test accuracy of :  0.848,0.766,0.805\n"
          ]
        },
        {
          "output_type": "execute_result",
          "data": {
            "text/plain": [
              "'\\ntrain_batch_x, train_batch_y = bert.get_batches(trainDataZ1)\\ntrain_precision, train_recall, train_F1 = evaluateF1(bert, train_batch_x, train_batch_y)\\nprint(\"\\nBest Performing Model achieves test accuracy of :  %.3f,%.3f,%.3f\" % (train_precision, train_recall, train_F1))\\n\\ndev_batch_x, dev_batch_y = bert.get_batches(devDataZ1)\\ndev_precision, dev_recall, dev_F1 = evaluateF1(bert, dev_batch_x, dev_batch_y)\\nprint(\"\\nBest Performing Model achieves test accuracy of :  %.3f,%.3f,%.3f\" % (dev_precision, dev_recall, dev_F1))\\n'"
            ],
            "application/vnd.google.colaboratory.intrinsic+json": {
              "type": "string"
            }
          },
          "metadata": {},
          "execution_count": 25
        }
      ]
    },
    {
      "cell_type": "markdown",
      "source": [
        "### Pub\n"
      ],
      "metadata": {
        "id": "VDBipXYHQeqw"
      }
    },
    {
      "cell_type": "code",
      "source": [
        "train_and_evaluate(\"dmis-lab/biobert-base-cased-v1.1\", \"ner-biobert\" , trainDataZ1, devDataZ1, max(tag_vocab.values()) + 1, embedding_size=512, doLowerCase=True, num_epochs=50)"
      ],
      "metadata": {
        "colab": {
          "base_uri": "https://localhost:8080/"
        },
        "id": "FopiDBjpQval",
        "outputId": "ffdf3116-cff0-4d98-ffd3-938d015cfc67"
      },
      "execution_count": null,
      "outputs": [
        {
          "output_type": "stream",
          "name": "stderr",
          "text": [
            "Some weights of the model checkpoint at dmis-lab/biobert-base-cased-v1.1 were not used when initializing BertModel: ['cls.predictions.transform.dense.weight', 'cls.predictions.transform.dense.bias', 'cls.predictions.transform.LayerNorm.weight', 'cls.predictions.bias', 'cls.seq_relationship.weight', 'cls.seq_relationship.bias', 'cls.predictions.decoder.weight', 'cls.predictions.decoder.bias', 'cls.predictions.transform.LayerNorm.bias']\n",
            "- This IS expected if you are initializing BertModel from the checkpoint of a model trained on another task or with another architecture (e.g. initializing a BertForSequenceClassification model from a BertForPreTraining model).\n",
            "- This IS NOT expected if you are initializing BertModel from the checkpoint of a model that you expect to be exactly identical (initializing a BertForSequenceClassification model from a BertForSequenceClassification model).\n",
            "\n",
            "  0%|          | 0/83 [00:00<?, ?it/s]\u001b[A"
          ]
        }
      ]
    },
    {
      "cell_type": "markdown",
      "source": [
        "## Z2\n",
        "Hizkuntza-eredu bat doitu (fine-tuning) MedMentions-eko\n",
        "corpusarekin NER egiteko.  \n",
        "Sistemari hobekuntzak egitea hobesten da. Aurrekoan bezala, sistema test multzoaren kontra ebaluatu egin behar da eta ebaluazio-metrikak eman beharko dira taula batean.  \n",
        "Klase bakarrekin lan egiteaz gain, Medmentions-eko klase semantiko ezberdinak\n",
        "bereiziko dira. Ez dira klase guztiak detektatuko, detekzio finago egingo da. Zehazki, detektatuko dira gaixotasunekin erlazio duten klaseak:  \n",
        "\n",
        "|Klase mota|Klasearen IDa|\n",
        "|--|--|\n",
        "Health Care Activity | T058\n",
        "Laboratory Procedure | T059\n",
        "Diagnostic Procedure | T060\n",
        "Therapeutic or Preventive Procedure | T061\n",
        "Disease or Syndrome | T047\n",
        "Mental or Behavioral Dysfunction | T048\n",
        "Neoplastic Process | T191\n",
        "Experimental Model of Disease | T050\n",
        "Organism | T001\n",
        "Virus | T005\n",
        "Bacterium | T007\n",
        "Anatomical Structure | T017\n",
        "Embryonic Structure | T018\n",
        "Fully Formed Anatomical Structure | T021\n",
        "Body Part, Organ, or Organ Component | T023\n",
        "Anatomical Abnormality | T190\n",
        "Congenital Abnormality | T019\n",
        "Acquired Abnormality | T020\n",
        "Clinical Drug | T200\n",
        "Pharmacologic Substance | T121\n",
        "Antibiotic | T195\n",
        "Finding | T033\n",
        "Sign or Symptom | T184\n",
        "\n",
        "Horretarako, lehenik hiztegi bat definituko dugu klasearen IDa eta klase mota daukagula bakoitzeko."
      ],
      "metadata": {
        "id": "P8PHQYWjG4Up"
      }
    },
    {
      "cell_type": "code",
      "source": [
        "#klaseak\n",
        "klaseak = [\"Health Care Activity\", \"Laboratory Procedure\", \"Diagnostic Procedure\", \"Therapeutic or Preventive Procedure\", \"Disease or Syndrome\", \"Mental or Behavioral Dysfunction\", \"Neoplastic Process\", \n",
        "           \"Experimental Model of Disease\", \"Organism\", \"Virus\", \" Bacterium\" , \"Anatomical Structure\", \"Embryonic Structure\", \"Fully Formed Anatomical Structure\", \"Body Part, Organ, or Organ Component\",\n",
        "           \"Anatomical Abnormality\", \"Congenital Abnormality\", \"Acquired Abnormality\", \"Clinical Drug\", \"Pharmacologic Substance\", \"Antibiotic\", \"Finding\", \"Sign or Symptom\"]\n",
        "\n",
        "klaseak_ID = [\"T058\", \"T059\", \"T060\", \"T061\", \"T047\", \"T048\", \"T191\", \"T050\", \"T001\", \"T005\", \"T007\", \"T017\", \"T018\", \"T021\", \"T023\", \"T190\", \"T019\", \"T020\", \"T200\", \"T121\", \"T195\", \"T033\", \"T184\"]\n",
        "\n",
        "etiketak = {}\n",
        "\n",
        "assert(len(klaseak) == len(klaseak_ID))\n",
        "\n",
        "for i in range(len(klaseak_ID)):\n",
        "  etiketak[klaseak_ID[i]] = klaseak[i]"
      ],
      "metadata": {
        "id": "OmEa_NKIAXuj"
      },
      "execution_count": 30,
      "outputs": []
    },
    {
      "cell_type": "markdown",
      "source": [
        "Konprobatu ondo sortuta dago datu-egitura:"
      ],
      "metadata": {
        "id": "1mXsnMjbFNmR"
      }
    },
    {
      "cell_type": "code",
      "source": [
        "print(etiketak)"
      ],
      "metadata": {
        "colab": {
          "base_uri": "https://localhost:8080/"
        },
        "id": "unrAUI-SFS2E",
        "outputId": "a2febb62-59a1-4405-e572-3bc10b8c3174"
      },
      "execution_count": 31,
      "outputs": [
        {
          "output_type": "stream",
          "name": "stdout",
          "text": [
            "{'T058': 'Health Care Activity', 'T059': 'Laboratory Procedure', 'T060': 'Diagnostic Procedure', 'T061': 'Therapeutic or Preventive Procedure', 'T047': 'Disease or Syndrome', 'T048': 'Mental or Behavioral Dysfunction', 'T191': 'Neoplastic Process', 'T050': 'Experimental Model of Disease', 'T001': 'Organism', 'T005': 'Virus', 'T007': ' Bacterium', 'T017': 'Anatomical Structure', 'T018': 'Embryonic Structure', 'T021': 'Fully Formed Anatomical Structure', 'T023': 'Body Part, Organ, or Organ Component', 'T190': 'Anatomical Abnormality', 'T019': 'Congenital Abnormality', 'T020': 'Acquired Abnormality', 'T200': 'Clinical Drug', 'T121': 'Pharmacologic Substance', 'T195': 'Antibiotic', 'T033': 'Finding', 'T184': 'Sign or Symptom'}\n"
          ]
        }
      ]
    },
    {
      "cell_type": "markdown",
      "source": [
        "### BIO etiketatzea\n",
        "Orain datuak BIO etiketatzera pasatuko ditugu. Kasu honetan, Z1en ez bezala, etiketa anitz izango ditugu. Etiketa hauek aurretIk definitu dira eta zehazki gaixotasunekin erlazio duten etiketak bakarrik dira. Beraz, tokena entitate baten hasiera baldin bada B-klasearenID etiketa jasoko du. I-klasearenID izango du aldiz, entitatearen barruan baldin badago eta 0 ez bada entitate bat edota entitate horren ID aurretik definitukoen artean ez badago. Jarraian adibide bat aurkezten da. Kasu horretan DCTN4 entitate bat da baina honen klaseen IDak T116, T123 dira eta hauek ez daudenez definitu ditugun etiketen artean, O etiketa hartzen du:\n",
        "\n",
        "```\n",
        "[DCTN4] as a modifier of [chronic Pseudomonas aeruginosa infection] in [cystic fibrosis]\n",
        "\n",
        "O O O O O B-T047 I-T047 I-T047 I-T047 O B-T047 I-T047\n",
        "```\n",
        "\n",
        "Lehenik eta behin fitxategi berriak sortuko dira *train*, *dev* eta *test* partizio bakoitzeko kasuak BIO etiketatzean gordetzeko."
      ],
      "metadata": {
        "id": "AIisjC3IFYPI"
      }
    },
    {
      "cell_type": "code",
      "source": [
        "#Aldagai orokorrak\n",
        "train_BIO_directory_Z2 = \"corpus_BIO_train_Z2.txt\"\n",
        "dev_BIO_directory_Z2 = \"corpus_BIO_dev_Z2.txt\"\n",
        "test_BIO_directory_Z2 = \"corpus_BIO_test_Z2.txt\"\n",
        "\n",
        "#sortu fitxategiak\n",
        "createFile(\"./\" + train_BIO_directory_Z2)\n",
        "createFile(\"./\" + dev_BIO_directory_Z2)\n",
        "createFile(\"./\" + test_BIO_directory_Z2)"
      ],
      "metadata": {
        "id": "OqM06hv2Gkxq"
      },
      "execution_count": 32,
      "outputs": []
    },
    {
      "cell_type": "markdown",
      "source": [
        "Hurrengo funtzioak fitxategi bakoitza irakurri eta BIO moduan etiketatzen ditu klase anitz ditugula. "
      ],
      "metadata": {
        "id": "99xHfwrYg6qu"
      }
    },
    {
      "cell_type": "code",
      "source": [
        "def readBIO_Z2_txt(filename, write_directory):\n",
        "    \n",
        "    \"\"\" Read input one by line \"\"\"\n",
        "    with open(filename) as file:\n",
        "        lines = \"\" #it  will contain the tittle and abstract\n",
        "        entitate_guztiak = []\n",
        "        cont = 0\n",
        "        cont_len = 0\n",
        "        for line in file:\n",
        "          if  \"|\" in line:\n",
        "            if cont % 2 == 0 and cont != 0:\n",
        "              #idatzi\n",
        "              idatzi_entitateak(entitate_guztiak, write_directory)\n",
        "              entitate_guztiak = []\n",
        "              lines = \"\"           \n",
        "              cont_len = 0   \n",
        "            cont += 1\n",
        "            text_ta = (line.split(\"|\")[2]).split(\"\\n\")[0]\n",
        "            tokenizatu_text_ta = tokenize(text_ta+ \" \")\n",
        "            for t in tokenizatu_text_ta:\n",
        "              entitate_guztiak.append([t,cont_len , cont_len+len(t) ,\"O\"])\n",
        "              cont_len += len(t)\n",
        "            lines += text_ta + \" \"\n",
        "          else:\n",
        "            desk = line.split(\"\\t\")\n",
        "            index_start = int(desk[1])\n",
        "            index_end = int(desk[2])\n",
        "            klase_id_ = str(desk[4]).split(\",\")\n",
        "            klase_id = []\n",
        "            #ikusiko dugu ea id-ren bat etiketen artean dagoen\n",
        "            for id in klase_id_:\n",
        "              if id  in etiketak.keys(): # badago\n",
        "                klase_id.append(id)\n",
        "            entitate = lines[index_start:index_end]\n",
        "            entitate_tokenizatu = tokenize(entitate)\n",
        "            first = True\n",
        "            if len(klase_id) > 0:\n",
        "              for ent in entitate_tokenizatu:\n",
        "                if first:\n",
        "                  if ent != \" \" :\n",
        "                    try:\n",
        "                      index = entitate_guztiak.index([ent,index_start, index_start + len(ent), \"O\"])\n",
        "                      entitate_guztiak[index] = [ent,index_start, index_start + len(ent), \"B-\"+\",\".join(klase_id)]\n",
        "                      index_start += len(ent)\n",
        "                      first = False\n",
        "                    except:\n",
        "                      index += 1\n",
        "                      entitate_guztiak.insert(index, [ent, len(entitate_guztiak[index-1][0]), len(entitate_guztiak[index-1][0])+len(ent), \"B-\"+\",\".join(klase_id)])\n",
        "                      index_start += len(ent)\n",
        "                      first = False\n",
        "                  else:\n",
        "                    index_start += 1\n",
        "                elif ent != \" \":\n",
        "                  try:\n",
        "                    index = entitate_guztiak.index([ent,index_start, index_start +len(ent), \"O\"])\n",
        "                    entitate_guztiak[index] = [ent,index_start, index_start +len(ent), \"I-\"+\",\".join(klase_id)]\n",
        "                    index_start += len(ent)\n",
        "                  except:\n",
        "                    index += 1\n",
        "                    entitate_guztiak.insert(index, [ent, len(entitate_guztiak[index-1][0]), len(entitate_guztiak[index-1][0])+len(ent), \"I-\"+\",\".join(klase_id)])\n",
        "                    index_start += len(ent)\n",
        "                else:\n",
        "                  index_start += 1\n",
        "        #azkena\n",
        "        idatzi_entitateak(entitate_guztiak, write_directory)"
      ],
      "metadata": {
        "id": "-7jM6GoMFh4L"
      },
      "execution_count": 33,
      "outputs": []
    },
    {
      "cell_type": "code",
      "source": [
        "readBIO_Z2_txt(dev_def_directory ,dev_BIO_directory_Z2)\n",
        "readBIO_Z2_txt(test_def_directory ,test_BIO_directory_Z2)\n",
        "readBIO_Z2_txt(train_def_directory ,train_BIO_directory_Z2)"
      ],
      "metadata": {
        "id": "_tyDcZ0mHLOA"
      },
      "execution_count": null,
      "outputs": []
    },
    {
      "cell_type": "markdown",
      "source": [
        "### BIO moduan etiketatutako datuak irakurri\n",
        "\n",
        "Aurretik definitutako ```read_txt()``` funtzioa erabiliko da aurretik etiketatu diren datuak irakurtzeko. Funtzio horrek datuak irakurri eta esaldiz osatutako lista bat sortzen du. Esaldi bakoitza tuplas osatutako lista bat da eta tupla bakoitzA bi elementuz osatuta dago: hitza eta etiketa (O,B,I).\n"
      ],
      "metadata": {
        "id": "vqYletRLiK4O"
      }
    },
    {
      "cell_type": "code",
      "source": [
        "trainDataZ2 = read_txt(train_BIO_directory_Z2)\n",
        "devDataZ2 = read_txt(dev_BIO_directory_Z2)\n",
        "testDataZ2 = read_txt(test_BIO_directory_Z2)"
      ],
      "metadata": {
        "id": "pIrPlHKViK4X"
      },
      "execution_count": 34,
      "outputs": []
    },
    {
      "cell_type": "markdown",
      "source": [
        "Ikusiko da egitura egokia dela, hau da, aurretik aipatuta egitura duela:"
      ],
      "metadata": {
        "id": "ZEG0JxakiK4Y"
      }
    },
    {
      "cell_type": "code",
      "source": [
        "print(trainDataZ2[0])\n",
        "print(len(trainDataZ2))\n",
        "print(len(devDataZ2))\n",
        "print(len(testDataZ2))"
      ],
      "metadata": {
        "colab": {
          "base_uri": "https://localhost:8080/"
        },
        "outputId": "c7a72aa6-af67-4d9b-95a8-0d7e8aab9237",
        "id": "0kUWUsTJiK4a"
      },
      "execution_count": 35,
      "outputs": [
        {
          "output_type": "stream",
          "name": "stdout",
          "text": [
            "[('An', 'O'), ('S116R', 'O'), ('Phosphorylation', 'O'), ('Site', 'O'), ('Mutation', 'O'), ('in', 'O'), ('Human', 'O'), ('Fibroblast', 'O'), ('Growth', 'O'), ('Factor-1', 'O'), ('Differentially', 'O'), ('Affects', 'O'), ('Mitogenic', 'O'), ('and', 'O'), ('Glucose', 'B-T033'), ('-', 'I-T033'), ('Lowering', 'I-T033'), ('Activities', 'I-T033'), ('Fibroblast', 'O'), ('growth', 'O'), ('factor-1', 'O'), ('(', 'O'), ('FGF-1', 'O'), (')', 'O'), (',', 'O'), ('a', 'O'), ('potent', 'O'), ('human', 'O'), ('mitogen', 'O'), ('and', 'O'), ('insulin', 'B-T121'), ('sensitizer', 'O'), (',', 'O'), ('signals', 'O'), ('through', 'O'), ('both', 'O'), ('tyrosine', 'O'), ('kinase', 'O'), ('receptor', 'O'), ('-mediated', 'O'), ('autocrine', 'O'), ('/', 'O'), ('paracrine', 'O'), ('pathways', 'O'), ('as', 'O'), ('well', 'O'), ('as', 'O'), ('a', 'O'), ('nuclear', 'O'), ('intracrine', 'O'), ('pathway', 'O'), ('.', 'O'), ('Phosphorylation', 'O'), ('of', 'O'), ('FGF-1', 'O'), ('at', 'O'), ('serine', 'B-T121'), ('116', 'I-T121'), ('(', 'O'), ('S116', 'B-T121'), (')', 'O'), ('has', 'O'), ('been', 'O'), ('proposed', 'O'), ('to', 'O'), ('regulate', 'O'), ('intracrine', 'O'), ('signaling', 'O'), ('.', 'O'), ('Position', 'O'), ('S116', 'B-T121'), ('is', 'O'), ('located', 'O'), ('within', 'O'), ('a', 'O'), ('∼17', 'O'), ('amino', 'O'), ('acid', 'O'), ('C', 'O'), ('-', 'O'), ('terminal', 'O'), ('loop', 'O'), ('that', 'O'), ('contains', 'O'), ('a', 'O'), ('rich', 'O'), ('set', 'O'), ('of', 'O'), ('functional', 'O'), ('determinants', 'O'), ('including', 'O'), ('heparin', 'B-T121'), ('∖', 'O'), ('heparan', 'O'), ('sulfate', 'O'), ('affinity', 'O'), (',', 'O'), ('thiol', 'O'), ('reactivity', 'O'), (',', 'O'), ('nuclear', 'O'), ('localization', 'O'), (',', 'O'), ('pharmacokinetics', 'O'), (',', 'O'), ('functional', 'O'), ('half', 'O'), ('-', 'O'), ('life', 'O'), (',', 'O'), ('nuclear', 'O'), ('ligand', 'O'), ('affinity', 'O'), (',', 'O'), ('stability', 'O'), (',', 'O'), ('and', 'O'), ('structural', 'O'), ('dynamics', 'O'), ('.', 'O'), ('Mutational', 'O'), ('targeting', 'O'), ('of', 'O'), ('specific', 'O'), ('functionality', 'O'), ('in', 'O'), ('this', 'O'), ('region', 'O'), ('without', 'O'), ('perturbing', 'O'), ('other', 'O'), ('functional', 'O'), ('determinants', 'O'), ('is', 'O'), ('a', 'O'), ('design', 'O'), ('challenge', 'O'), ('.', 'O'), ('S116R', 'B-T121'), ('is', 'O'), ('a', 'O'), ('non', 'B-T033'), ('-', 'I-T033'), ('phosphorylatable', 'I-T033'), ('variant', 'O'), ('present', 'O'), ('in', 'O'), ('bovine', 'O'), ('FGF-1', 'O'), ('and', 'O'), ('other', 'O'), ('members', 'O'), ('of', 'O'), ('the', 'O'), ('human', 'O'), ('FGF', 'O'), ('family', 'O'), ('.', 'O'), ('We', 'O'), ('show', 'O'), ('that', 'O'), ('the', 'O'), ('S116R', 'O'), ('mutation', 'O'), ('in', 'O'), ('human', 'O'), ('FGF-1', 'O'), ('is', 'O'), ('accommodated', 'O'), ('with', 'O'), ('no', 'O'), ('perturbation', 'O'), ('of', 'O'), ('biophysical', 'O'), ('or', 'O'), ('structural', 'O'), ('properties', 'O'), (',', 'O'), ('and', 'O'), ('is', 'O'), ('therefore', 'O'), ('an', 'O'), ('attractive', 'O'), ('mutation', 'O'), ('with', 'O'), ('which', 'O'), ('to', 'O'), ('elucidate', 'O'), ('the', 'O'), ('functional', 'O'), ('role', 'O'), ('of', 'O'), ('phosphorylation', 'O'), ('.', 'O'), ('Characterization', 'O'), ('of', 'O'), ('S116R', 'B-T121'), ('shows', 'O'), ('reduction', 'O'), ('in', 'O'), ('NIH', 'O'), ('3T3', 'O'), ('fibroblast', 'O'), ('mitogenic', 'O'), ('stimulation', 'O'), (',', 'O'), ('increase', 'O'), ('in', 'O'), ('fibroblast', 'O'), ('growth', 'O'), ('factor', 'O'), ('receptor-1c', 'O'), ('activation', 'O'), (',', 'O'), ('and', 'O'), ('prolonged', 'O'), ('duration', 'O'), ('of', 'O'), ('glucose', 'B-T033'), ('lowering', 'I-T033'), ('in', 'O'), ('ob', 'B-T047'), ('/', 'I-T047'), ('ob', 'I-T047'), ('hyperglycemic', 'B-T047'), ('mice', 'O'), ('.', 'O'), ('A', 'O'), ('novel', 'O'), ('FGF-1', 'O'), ('/', 'O'), ('fibroblast', 'O'), ('growth', 'O'), ('factor', 'O'), ('receptor-1c', 'O'), ('dimerization', 'O'), ('interaction', 'O'), ('combined', 'O'), ('with', 'O'), ('non', 'B-T033'), ('-', 'I-T033'), ('phosphorylatable', 'I-T033'), ('intracrine', 'O'), ('signaling', 'O'), ('is', 'O'), ('hypothesized', 'O'), ('to', 'O'), ('be', 'O'), ('responsible', 'O'), ('for', 'O'), ('these', 'O'), ('observed', 'O'), ('functional', 'O'), ('effects', 'O'), ('.', 'O')]\n",
            "2635\n",
            "878\n",
            "879\n"
          ]
        }
      ]
    },
    {
      "cell_type": "markdown",
      "source": [
        "Orain, entrenamendu-datuetan jaso ahal diren etiketa guztien indize bat eman zaie, hurrengo datu-egitura sortuz: hiztegi bat etiketekin eta indizearekin, eta alderantzizko hiztegia indezeekin eta etiketekin. Horretako aurretik definitutako ```get_tag_vocab()```funtzioa erabiliko da. Gero, inprimatzen dira sortutako bi egitura berriak. Kasu honetan, Z1n ez bezala, 3 etiketa baino gehiago izango ditugu ez daukagulako etiketa bakarra.\n"
      ],
      "metadata": {
        "id": "OaW-qIG_iK4b"
      }
    },
    {
      "cell_type": "code",
      "source": [
        "tag_vocab,rev_tags=get_tag_vocab(trainDataZ2)\n",
        "\n",
        "print(tag_vocab)\n",
        "print(rev_tags)\n",
        "print(rev_tags[0])"
      ],
      "metadata": {
        "colab": {
          "base_uri": "https://localhost:8080/"
        },
        "outputId": "016373f6-d798-4a5f-832f-530f3bb89ed1",
        "id": "MDW87rCLiK4e"
      },
      "execution_count": 36,
      "outputs": [
        {
          "output_type": "stream",
          "name": "stdout",
          "text": [
            "{'O': 0, 'B-T033': 1, 'I-T033': 2, 'B-T121': 3, 'I-T121': 4, 'B-T047': 5, 'I-T047': 6, 'B-T061': 7, 'B-T059': 8, 'I-T059': 9, 'I-T061': 10, 'B-T058': 11, 'I-T058': 12, 'B-T184': 13, 'I-T184': 14, 'B-T060': 15, 'I-T060': 16, 'B-T005': 17, 'B-T007': 18, 'B-T001': 19, 'I-T007': 20, 'B-T191': 21, 'B-T023': 22, 'I-T023': 23, 'B-T019': 24, 'I-T019': 25, 'B-T050': 26, 'I-T050': 27, 'I-T001': 28, 'B-T048': 29, 'B-T020': 30, 'I-T191': 31, 'B-T190': 32, 'I-T190': 33, 'I-T048': 34, 'B-T195': 35, 'I-T005': 36, 'I-T195': 37, 'B-T017': 38, 'I-T020': 39, 'B-T200': 40, 'I-T200': 41, 'B-T018': 42, 'I-T017': 43, 'I-T018': 44, 'B-T019,T047': 45, 'I-T019,T047': 46, 'B-T047,T190': 47, 'I-T047,T190': 48, 'B-T021': 49}\n",
            "{0: 'O', 1: 'B-T033', 2: 'I-T033', 3: 'B-T121', 4: 'I-T121', 5: 'B-T047', 6: 'I-T047', 7: 'B-T061', 8: 'B-T059', 9: 'I-T059', 10: 'I-T061', 11: 'B-T058', 12: 'I-T058', 13: 'B-T184', 14: 'I-T184', 15: 'B-T060', 16: 'I-T060', 17: 'B-T005', 18: 'B-T007', 19: 'B-T001', 20: 'I-T007', 21: 'B-T191', 22: 'B-T023', 23: 'I-T023', 24: 'B-T019', 25: 'I-T019', 26: 'B-T050', 27: 'I-T050', 28: 'I-T001', 29: 'B-T048', 30: 'B-T020', 31: 'I-T191', 32: 'B-T190', 33: 'I-T190', 34: 'I-T048', 35: 'B-T195', 36: 'I-T005', 37: 'I-T195', 38: 'B-T017', 39: 'I-T020', 40: 'B-T200', 41: 'I-T200', 42: 'B-T018', 43: 'I-T017', 44: 'I-T018', 45: 'B-T019,T047', 46: 'I-T019,T047', 47: 'B-T047,T190', 48: 'I-T047,T190', 49: 'B-T021'}\n",
            "O\n"
          ]
        }
      ]
    },
    {
      "cell_type": "markdown",
      "source": [
        "### BERT orokorra doitu\n",
        "\n",
        "Datuak irakurrita, prozesatuta eta mini-batchak eta ebaluazio funtzioak ditugula (hauek Z1en definitu dira). Aurre-entrenatutako BERT eredu orokor bat kargatuko da NER etiketatzea egiteko eta traineko datuekin doitu egingo dugu gure probleman hobeto egiten ikasteko. Gero dev-ekin hainbat aldiz konprobatuko da ondo egiten dela eta azkenik, test-ekin ebaluatuko da."
      ],
      "metadata": {
        "id": "cwjvoB31BaQX"
      }
    },
    {
      "cell_type": "markdown",
      "source": [
        "Tamaina desberdinetako BERT-ak daude, geruza kopuru desberdinekin (2, 4, 6, 8, 10) eta dimentsio desberdinekin (128, 256, 512). Zenbat eta txikiago izan azkarrago entrenatzen da baina lortzen diren emaitzak txarragoak dira. Beraz, erabaki da ez oso txikia eta ez oso handia den eredu bat erabiltzea. Modu honetan lortzen diren emaitzak nahiko onak izango dira denbora nahiko txikian. Zehazki, *bert-small* erabili da ezkutuko dimentsioa H=512 dena, 4 ezkutuko geruza L=4 eta 8 atentzio geruza A=8 dituena.\n",
        "\n",
        "Jarraian modelo hori erabili da epoch bakoitzeko *precision*, *recall* eta *F1* lortzen direlarik. F1, aipatu bezala, bi metrikak erlazionatzen dituenez hau erabili hau *best_dev_acc* bezala. "
      ],
      "metadata": {
        "id": "lVMpBruSCZHz"
      }
    },
    {
      "cell_type": "code",
      "source": [
        "train_and_evaluate(\"google/bert_uncased_L-4_H-512_A-8\", \"ner-bert-small-Z2\" , trainDataZ2, devDataZ2, max(tag_vocab.values()) + 1, embedding_size=512, doLowerCase=True, num_epochs=50)"
      ],
      "metadata": {
        "colab": {
          "base_uri": "https://localhost:8080/",
          "height": 384
        },
        "outputId": "15121a9e-8238-4bed-b7b1-70ed4fa0feda",
        "id": "sTnPoAd0CZH3"
      },
      "execution_count": 38,
      "outputs": [
        {
          "output_type": "stream",
          "name": "stderr",
          "text": [
            "Some weights of the model checkpoint at google/bert_uncased_L-4_H-512_A-8 were not used when initializing BertModel: ['cls.predictions.bias', 'cls.predictions.decoder.weight', 'cls.seq_relationship.weight', 'cls.predictions.decoder.bias', 'cls.predictions.transform.dense.bias', 'cls.predictions.transform.LayerNorm.weight', 'cls.predictions.transform.LayerNorm.bias', 'cls.seq_relationship.bias', 'cls.predictions.transform.dense.weight']\n",
            "- This IS expected if you are initializing BertModel from the checkpoint of a model trained on another task or with another architecture (e.g. initializing a BertForSequenceClassification model from a BertForPreTraining model).\n",
            "- This IS NOT expected if you are initializing BertModel from the checkpoint of a model that you expect to be exactly identical (initializing a BertForSequenceClassification model from a BertForSequenceClassification model).\n"
          ]
        },
        {
          "output_type": "error",
          "ename": "KeyError",
          "evalue": "ignored",
          "traceback": [
            "\u001b[0;31m---------------------------------------------------------------------------\u001b[0m",
            "\u001b[0;31mKeyError\u001b[0m                                  Traceback (most recent call last)",
            "\u001b[0;32m<ipython-input-38-7affe9cc5dd7>\u001b[0m in \u001b[0;36m<module>\u001b[0;34m\u001b[0m\n\u001b[0;32m----> 1\u001b[0;31m \u001b[0mtrain_and_evaluate\u001b[0m\u001b[0;34m(\u001b[0m\u001b[0;34m\"google/bert_uncased_L-4_H-512_A-8\"\u001b[0m\u001b[0;34m,\u001b[0m \u001b[0;34m\"ner-bert-small-Z2\"\u001b[0m \u001b[0;34m,\u001b[0m \u001b[0mtrainDataZ2\u001b[0m\u001b[0;34m,\u001b[0m \u001b[0mdevDataZ2\u001b[0m\u001b[0;34m,\u001b[0m \u001b[0mmax\u001b[0m\u001b[0;34m(\u001b[0m\u001b[0mtag_vocab\u001b[0m\u001b[0;34m.\u001b[0m\u001b[0mvalues\u001b[0m\u001b[0;34m(\u001b[0m\u001b[0;34m)\u001b[0m\u001b[0;34m)\u001b[0m \u001b[0;34m+\u001b[0m \u001b[0;36m1\u001b[0m\u001b[0;34m,\u001b[0m \u001b[0membedding_size\u001b[0m\u001b[0;34m=\u001b[0m\u001b[0;36m512\u001b[0m\u001b[0;34m,\u001b[0m \u001b[0mdoLowerCase\u001b[0m\u001b[0;34m=\u001b[0m\u001b[0;32mTrue\u001b[0m\u001b[0;34m,\u001b[0m \u001b[0mnum_epochs\u001b[0m\u001b[0;34m=\u001b[0m\u001b[0;36m50\u001b[0m\u001b[0;34m)\u001b[0m\u001b[0;34m\u001b[0m\u001b[0;34m\u001b[0m\u001b[0m\n\u001b[0m",
            "\u001b[0;32m<ipython-input-19-d2026d2859d4>\u001b[0m in \u001b[0;36mtrain_and_evaluate\u001b[0;34m(bert_model_name, model_filename, train_data, dev_data, label_length, embedding_size, doLowerCase, freezeBert, num_epochs)\u001b[0m\n\u001b[1;32m      6\u001b[0m \u001b[0;34m\u001b[0m\u001b[0m\n\u001b[1;32m      7\u001b[0m   \u001b[0mbatch_x\u001b[0m\u001b[0;34m,\u001b[0m \u001b[0mbatch_y\u001b[0m \u001b[0;34m=\u001b[0m \u001b[0mbert_model\u001b[0m\u001b[0;34m.\u001b[0m\u001b[0mget_batches\u001b[0m\u001b[0;34m(\u001b[0m\u001b[0mtrain_data\u001b[0m\u001b[0;34m)\u001b[0m\u001b[0;34m\u001b[0m\u001b[0;34m\u001b[0m\u001b[0m\n\u001b[0;32m----> 8\u001b[0;31m   \u001b[0mdev_batch_x\u001b[0m\u001b[0;34m,\u001b[0m \u001b[0mdev_batch_y\u001b[0m \u001b[0;34m=\u001b[0m \u001b[0mbert_model\u001b[0m\u001b[0;34m.\u001b[0m\u001b[0mget_batches\u001b[0m\u001b[0;34m(\u001b[0m\u001b[0mdev_data\u001b[0m\u001b[0;34m)\u001b[0m\u001b[0;34m\u001b[0m\u001b[0;34m\u001b[0m\u001b[0m\n\u001b[0m\u001b[1;32m      9\u001b[0m \u001b[0;34m\u001b[0m\u001b[0m\n\u001b[1;32m     10\u001b[0m   \u001b[0moptimizer\u001b[0m \u001b[0;34m=\u001b[0m \u001b[0mtorch\u001b[0m\u001b[0;34m.\u001b[0m\u001b[0moptim\u001b[0m\u001b[0;34m.\u001b[0m\u001b[0mAdam\u001b[0m\u001b[0;34m(\u001b[0m\u001b[0mbert_model\u001b[0m\u001b[0;34m.\u001b[0m\u001b[0mparameters\u001b[0m\u001b[0;34m(\u001b[0m\u001b[0;34m)\u001b[0m\u001b[0;34m,\u001b[0m \u001b[0mlr\u001b[0m\u001b[0;34m=\u001b[0m\u001b[0;36m1e-5\u001b[0m\u001b[0;34m)\u001b[0m\u001b[0;34m\u001b[0m\u001b[0;34m\u001b[0m\u001b[0m\n",
            "\u001b[0;32m<ipython-input-17-4df00b97f72f>\u001b[0m in \u001b[0;36mget_batches\u001b[0;34m(self, all_data, batch_size, max_toks)\u001b[0m\n\u001b[1;32m     68\u001b[0m                 \u001b[0;32melse\u001b[0m\u001b[0;34m:\u001b[0m\u001b[0;34m\u001b[0m\u001b[0;34m\u001b[0m\u001b[0m\n\u001b[1;32m     69\u001b[0m                   \u001b[0;32mreturn\u001b[0m \u001b[0mtag_vocab\u001b[0m\u001b[0;34m[\u001b[0m\u001b[0mtags\u001b[0m\u001b[0;34m[\u001b[0m\u001b[0mid\u001b[0m\u001b[0;34m]\u001b[0m\u001b[0;34m]\u001b[0m\u001b[0;34m\u001b[0m\u001b[0;34m\u001b[0m\u001b[0m\n\u001b[0;32m---> 70\u001b[0;31m               \u001b[0madjusted_tags\u001b[0m \u001b[0;34m=\u001b[0m \u001b[0;34m[\u001b[0m\u001b[0mget_tag_from_id\u001b[0m\u001b[0;34m(\u001b[0m\u001b[0mid\u001b[0m\u001b[0;34m,\u001b[0m\u001b[0mtags\u001b[0m\u001b[0;34m)\u001b[0m \u001b[0;32mfor\u001b[0m \u001b[0mid\u001b[0m \u001b[0;32min\u001b[0m \u001b[0mword_ids\u001b[0m\u001b[0;34m]\u001b[0m\u001b[0;34m\u001b[0m\u001b[0;34m\u001b[0m\u001b[0m\n\u001b[0m\u001b[1;32m     71\u001b[0m               \u001b[0mbatch_adjusted_tags\u001b[0m\u001b[0;34m.\u001b[0m\u001b[0mappend\u001b[0m\u001b[0;34m(\u001b[0m\u001b[0madjusted_tags\u001b[0m\u001b[0;34m)\u001b[0m\u001b[0;34m\u001b[0m\u001b[0;34m\u001b[0m\u001b[0m\n\u001b[1;32m     72\u001b[0m \u001b[0;34m\u001b[0m\u001b[0m\n",
            "\u001b[0;32m<ipython-input-17-4df00b97f72f>\u001b[0m in \u001b[0;36m<listcomp>\u001b[0;34m(.0)\u001b[0m\n\u001b[1;32m     68\u001b[0m                 \u001b[0;32melse\u001b[0m\u001b[0;34m:\u001b[0m\u001b[0;34m\u001b[0m\u001b[0;34m\u001b[0m\u001b[0m\n\u001b[1;32m     69\u001b[0m                   \u001b[0;32mreturn\u001b[0m \u001b[0mtag_vocab\u001b[0m\u001b[0;34m[\u001b[0m\u001b[0mtags\u001b[0m\u001b[0;34m[\u001b[0m\u001b[0mid\u001b[0m\u001b[0;34m]\u001b[0m\u001b[0;34m]\u001b[0m\u001b[0;34m\u001b[0m\u001b[0;34m\u001b[0m\u001b[0m\n\u001b[0;32m---> 70\u001b[0;31m               \u001b[0madjusted_tags\u001b[0m \u001b[0;34m=\u001b[0m \u001b[0;34m[\u001b[0m\u001b[0mget_tag_from_id\u001b[0m\u001b[0;34m(\u001b[0m\u001b[0mid\u001b[0m\u001b[0;34m,\u001b[0m\u001b[0mtags\u001b[0m\u001b[0;34m)\u001b[0m \u001b[0;32mfor\u001b[0m \u001b[0mid\u001b[0m \u001b[0;32min\u001b[0m \u001b[0mword_ids\u001b[0m\u001b[0;34m]\u001b[0m\u001b[0;34m\u001b[0m\u001b[0;34m\u001b[0m\u001b[0m\n\u001b[0m\u001b[1;32m     71\u001b[0m               \u001b[0mbatch_adjusted_tags\u001b[0m\u001b[0;34m.\u001b[0m\u001b[0mappend\u001b[0m\u001b[0;34m(\u001b[0m\u001b[0madjusted_tags\u001b[0m\u001b[0;34m)\u001b[0m\u001b[0;34m\u001b[0m\u001b[0;34m\u001b[0m\u001b[0m\n\u001b[1;32m     72\u001b[0m \u001b[0;34m\u001b[0m\u001b[0m\n",
            "\u001b[0;32m<ipython-input-17-4df00b97f72f>\u001b[0m in \u001b[0;36mget_tag_from_id\u001b[0;34m(id, tags)\u001b[0m\n\u001b[1;32m     67\u001b[0m                   \u001b[0;32mreturn\u001b[0m \u001b[0;34m-\u001b[0m\u001b[0;36m1\u001b[0m\u001b[0;34m\u001b[0m\u001b[0;34m\u001b[0m\u001b[0m\n\u001b[1;32m     68\u001b[0m                 \u001b[0;32melse\u001b[0m\u001b[0;34m:\u001b[0m\u001b[0;34m\u001b[0m\u001b[0;34m\u001b[0m\u001b[0m\n\u001b[0;32m---> 69\u001b[0;31m                   \u001b[0;32mreturn\u001b[0m \u001b[0mtag_vocab\u001b[0m\u001b[0;34m[\u001b[0m\u001b[0mtags\u001b[0m\u001b[0;34m[\u001b[0m\u001b[0mid\u001b[0m\u001b[0;34m]\u001b[0m\u001b[0;34m]\u001b[0m\u001b[0;34m\u001b[0m\u001b[0;34m\u001b[0m\u001b[0m\n\u001b[0m\u001b[1;32m     70\u001b[0m               \u001b[0madjusted_tags\u001b[0m \u001b[0;34m=\u001b[0m \u001b[0;34m[\u001b[0m\u001b[0mget_tag_from_id\u001b[0m\u001b[0;34m(\u001b[0m\u001b[0mid\u001b[0m\u001b[0;34m,\u001b[0m\u001b[0mtags\u001b[0m\u001b[0;34m)\u001b[0m \u001b[0;32mfor\u001b[0m \u001b[0mid\u001b[0m \u001b[0;32min\u001b[0m \u001b[0mword_ids\u001b[0m\u001b[0;34m]\u001b[0m\u001b[0;34m\u001b[0m\u001b[0;34m\u001b[0m\u001b[0m\n\u001b[1;32m     71\u001b[0m               \u001b[0mbatch_adjusted_tags\u001b[0m\u001b[0;34m.\u001b[0m\u001b[0mappend\u001b[0m\u001b[0;34m(\u001b[0m\u001b[0madjusted_tags\u001b[0m\u001b[0;34m)\u001b[0m\u001b[0;34m\u001b[0m\u001b[0;34m\u001b[0m\u001b[0m\n",
            "\u001b[0;31mKeyError\u001b[0m: 'B-T050,T191'"
          ]
        }
      ]
    },
    {
      "cell_type": "markdown",
      "source": [
        "Azkenik, test-ean probatuko dugu gure modelo hoberena. Horretarako:  \n",
        "\n",
        "\n",
        "1.   Aurre-entrenatutako modeloa hasieratuko dugu aurretik egin dugun moduan.\n",
        "2.   Parametroak berridatziko ditugu gordetako modeloa erabiliz,\n",
        "3. Gure modeloa ebaluatuko dugu test-eko datuak hartuz. Metrikak *precision*, *recall* eta *F1* dira hurrenez hurren.\n"
      ],
      "metadata": {
        "id": "6jZPXE9OCZH9"
      }
    },
    {
      "cell_type": "code",
      "source": [
        "bert=BERTSequenceLabeler(params={\"doLowerCase\": True, \"model_name\": \"google/bert_uncased_L-4_H-512_A-8\", \"embedding_size\":512, \"label_length\": max(tag_vocab.values())+1})\n",
        "bert.to(device)\n",
        "bert.load_state_dict(torch.load('ner-bert-small-Z2'))\n",
        "\n",
        "test_batch_x, test_batch_y = bert.get_batches(testDataZ2)\n",
        "test_precision, test_recall, test_F1 = evaluateF1(bert, test_batch_x, test_batch_y)\n",
        "print(\"\\nBest Performing Model achieves test accuracy of :  %.3f,%.3f,%.3f\" % (test_precision, test_recall, test_F1))\n",
        "\n",
        "'''\n",
        "train_batch_x, train_batch_y = bert.get_batches(trainDataZ1)\n",
        "train_precision, train_recall, train_F1 = evaluateF1(bert, train_batch_x, train_batch_y)\n",
        "print(\"\\nBest Performing Model achieves test accuracy of :  %.3f,%.3f,%.3f\" % (train_precision, train_recall, train_F1))\n",
        "\n",
        "dev_batch_x, dev_batch_y = bert.get_batches(devDataZ1)\n",
        "dev_precision, dev_recall, dev_F1 = evaluateF1(bert, dev_batch_x, dev_batch_y)\n",
        "print(\"\\nBest Performing Model achieves test accuracy of :  %.3f,%.3f,%.3f\" % (dev_precision, dev_recall, dev_F1))\n",
        "'''"
      ],
      "metadata": {
        "colab": {
          "base_uri": "https://localhost:8080/",
          "height": 177
        },
        "outputId": "85a57c16-6396-4cbe-adc1-1e2f4ef29497",
        "id": "yBAhocfaCZH_"
      },
      "execution_count": null,
      "outputs": [
        {
          "output_type": "stream",
          "name": "stderr",
          "text": [
            "Some weights of the model checkpoint at google/bert_uncased_L-4_H-512_A-8 were not used when initializing BertModel: ['cls.predictions.bias', 'cls.predictions.decoder.weight', 'cls.seq_relationship.weight', 'cls.predictions.decoder.bias', 'cls.predictions.transform.dense.bias', 'cls.predictions.transform.LayerNorm.weight', 'cls.predictions.transform.LayerNorm.bias', 'cls.seq_relationship.bias', 'cls.predictions.transform.dense.weight']\n",
            "- This IS expected if you are initializing BertModel from the checkpoint of a model trained on another task or with another architecture (e.g. initializing a BertForSequenceClassification model from a BertForPreTraining model).\n",
            "- This IS NOT expected if you are initializing BertModel from the checkpoint of a model that you expect to be exactly identical (initializing a BertForSequenceClassification model from a BertForSequenceClassification model).\n"
          ]
        },
        {
          "output_type": "stream",
          "name": "stdout",
          "text": [
            "\n",
            "Best Performing Model achieves test accuracy of :  0.848,0.766,0.805\n"
          ]
        },
        {
          "output_type": "execute_result",
          "data": {
            "text/plain": [
              "'\\ntrain_batch_x, train_batch_y = bert.get_batches(trainDataZ1)\\ntrain_precision, train_recall, train_F1 = evaluateF1(bert, train_batch_x, train_batch_y)\\nprint(\"\\nBest Performing Model achieves test accuracy of :  %.3f,%.3f,%.3f\" % (train_precision, train_recall, train_F1))\\n\\ndev_batch_x, dev_batch_y = bert.get_batches(devDataZ1)\\ndev_precision, dev_recall, dev_F1 = evaluateF1(bert, dev_batch_x, dev_batch_y)\\nprint(\"\\nBest Performing Model achieves test accuracy of :  %.3f,%.3f,%.3f\" % (dev_precision, dev_recall, dev_F1))\\n'"
            ],
            "application/vnd.google.colaboratory.intrinsic+json": {
              "type": "string"
            }
          },
          "metadata": {},
          "execution_count": 25
        }
      ]
    },
    {
      "cell_type": "markdown",
      "source": [
        "# TRASH"
      ],
      "metadata": {
        "id": "jOv9SH_WrywL"
      }
    },
    {
      "cell_type": "code",
      "execution_count": null,
      "metadata": {
        "id": "2RI7PdOZ5Xh4",
        "colab": {
          "base_uri": "https://localhost:8080/",
          "height": 105
        },
        "outputId": "44ff4f47-6553-4074-853e-0eebbbe6e008"
      },
      "outputs": [
        {
          "output_type": "execute_result",
          "data": {
            "text/plain": [
              "'\\ndesk = line.split(\"\\t\")\\nindex_start = int(desk[1])\\nindex_end = int(desk[2])\\ntext_segment = desk[3].split(\" \")\\nfirst = True\\n#print(cont)\\nwhile cont != index_end:\\n  if cont < index_start:\\n    fragment = lines[cont:index_start]\\n    print(fragment)\\n    tokens = fragment.split(\" \")\\n    for token in tokens:\\n      if token !=\" \":\\n        text = token+\"\\t O \\n\"\\n        idatzi_kasua(write_directory, text)\\n    cont += len(fragment)\\n    print(cont)\\n  elif cont == index_start:\\n    print(\"sartu\")\\n    if len(text_segment) == 1: #hitz bakarrez osatuta\\n      text = lines[cont:index_end+1] +\"\\t B-MED \\n\"\\n      idatzi_kasua(write_directory, text)\\n    else: \\n      for segment in text_segment:\\n        if first:\\n          text = lines[cont:cont+len(segment)] +\"\\t B-MED \\n\"\\n          idatzi_kasua(write_directory, text)\\n          first = False\\n          cont = len(text)+1\\n        else:\\n          text = lines[cont:cont+len(segment)] +\"\\t I-MED \\n\"\\n          idatzi_kasua(write_directory, text)\\n    cont = index_end\\n  lines = lines[index_end:]\\n\\nsartu = False\\nprint(lines)\\ndesk = line.split(\"\\t\")\\nindex_start = int(desk[1])\\nindex_end = int(desk[2])\\ndel  lines[0:len(remove_list)]\\nremove_list = []\\nfor l in lines:\\n  print(cont)\\n  if cont == index_end:\\n    print(\"sartu\")\\n    break\\n  if l == \" \":\\n    cont += 1\\n    remove_list.append(lines.index(l))\\n  elif cont == index_start:\\n    text = l +\"\\t B-MED \\n\"\\n    sartu = True\\n    idatzi_kasua(write_directory, text)\\n    remove_list.append(lines.index(l))\\n  elif cont < index_end and sartu:\\n    sartu = False\\n    cont += len(l)\\n    text = l +\"\\t I-MED \\n\"\\n    idatzi_kasua(write_directory, text)\\n    remove_list.append(lines.index(l))\\n  else:\\n    cont += len(l) \\n    text = l +\"\\t O \\n\"\\n    idatzi_kasua(write_directory, text)\\n    remove_list.append(lines.index(l))\\n\\n\\n\\n\\n\\n\\n\\n\\n        atera = False\\nwhile not atera:\\n  if cont == index_start or cont > index_start:\\n    if len(text_segment) == 1: #entity has only one word\\n      if cont > index_start:\\n        cont = index_start\\n      l = lines[cont:index_end]\\n      cont += len(l)\\n      text = l +\"\\t B-MED \\n\"\\n      idatzi_kasua(write_directory, text)\\n      atera = True\\n    elif len(text_segment) > 1 : #entity has more than one word \\n      count = 0\\n      if cont > index_start:\\n          cont = index_start\\n      while cont != index_end:\\n        if cont == index_start:\\n          l = lines[cont:len(text_segment[0])]\\n          text =  l +\"\\t B-MED \\n\"\\n          idatzi_kasua(write_directory, text)\\n        else:\\n          l = lines[cont:len(text_segment[count])]\\n          text = l +\"\\t I-MED \\n\"\\n          idatzi_kasua(write_directory, text)\\n        count += 1\\n        cont += len(l)\\n      atera = True\\n\\n  else:\\n    text_other_segment = tokenize(lines[cont:index_start])\\n    count = 0\\n    for l in text_other_segment:\\n      if l != \" \":\\n        text = l +\"\\t O \\n\"\\n        idatzi_kasua(write_directory, text)\\n        count += 1\\n  \\n      cont += len(l)\\n\\n    '"
            ],
            "application/vnd.google.colaboratory.intrinsic+json": {
              "type": "string"
            }
          },
          "metadata": {},
          "execution_count": 1
        }
      ],
      "source": [
        "\n",
        "            '''\n",
        "            desk = line.split(\"\\t\")\n",
        "            index_start = int(desk[1])\n",
        "            index_end = int(desk[2])\n",
        "            text_segment = desk[3].split(\" \")\n",
        "            first = True\n",
        "            #print(cont)\n",
        "            while cont != index_end:\n",
        "              if cont < index_start:\n",
        "                fragment = lines[cont:index_start]\n",
        "                print(fragment)\n",
        "                tokens = fragment.split(\" \")\n",
        "                for token in tokens:\n",
        "                  if token !=\" \":\n",
        "                    text = token+\"\\t O \\n\"\n",
        "                    idatzi_kasua(write_directory, text)\n",
        "                cont += len(fragment)\n",
        "                print(cont)\n",
        "              elif cont == index_start:\n",
        "                print(\"sartu\")\n",
        "                if len(text_segment) == 1: #hitz bakarrez osatuta\n",
        "                  text = lines[cont:index_end+1] +\"\\t B-MED \\n\"\n",
        "                  idatzi_kasua(write_directory, text)\n",
        "                else: \n",
        "                  for segment in text_segment:\n",
        "                    if first:\n",
        "                      text = lines[cont:cont+len(segment)] +\"\\t B-MED \\n\"\n",
        "                      idatzi_kasua(write_directory, text)\n",
        "                      first = False\n",
        "                      cont = len(text)+1\n",
        "                    else:\n",
        "                      text = lines[cont:cont+len(segment)] +\"\\t I-MED \\n\"\n",
        "                      idatzi_kasua(write_directory, text)\n",
        "                cont = index_end\n",
        "              lines = lines[index_end:]\n",
        "            \n",
        "            sartu = False\n",
        "            print(lines)\n",
        "            desk = line.split(\"\\t\")\n",
        "            index_start = int(desk[1])\n",
        "            index_end = int(desk[2])\n",
        "            del  lines[0:len(remove_list)]\n",
        "            remove_list = []\n",
        "            for l in lines:\n",
        "              print(cont)\n",
        "              if cont == index_end:\n",
        "                print(\"sartu\")\n",
        "                break\n",
        "              if l == \" \":\n",
        "                cont += 1\n",
        "                remove_list.append(lines.index(l))\n",
        "              elif cont == index_start:\n",
        "                text = l +\"\\t B-MED \\n\"\n",
        "                sartu = True\n",
        "                idatzi_kasua(write_directory, text)\n",
        "                remove_list.append(lines.index(l))\n",
        "              elif cont < index_end and sartu:\n",
        "                sartu = False\n",
        "                cont += len(l)\n",
        "                text = l +\"\\t I-MED \\n\"\n",
        "                idatzi_kasua(write_directory, text)\n",
        "                remove_list.append(lines.index(l))\n",
        "              else:\n",
        "                cont += len(l) \n",
        "                text = l +\"\\t O \\n\"\n",
        "                idatzi_kasua(write_directory, text)\n",
        "                remove_list.append(lines.index(l))\n",
        "\n",
        "\n",
        "\n",
        "\n",
        "\n",
        "\n",
        "\n",
        "\n",
        "        atera = False\n",
        "            while not atera:\n",
        "              if cont == index_start or cont > index_start:\n",
        "                if len(text_segment) == 1: #entity has only one word\n",
        "                  if cont > index_start:\n",
        "                    cont = index_start\n",
        "                  l = lines[cont:index_end]\n",
        "                  cont += len(l)\n",
        "                  text = l +\"\\t B-MED \\n\"\n",
        "                  idatzi_kasua(write_directory, text)\n",
        "                  atera = True\n",
        "                elif len(text_segment) > 1 : #entity has more than one word \n",
        "                  count = 0\n",
        "                  if cont > index_start:\n",
        "                      cont = index_start\n",
        "                  while cont != index_end:\n",
        "                    if cont == index_start:\n",
        "                      l = lines[cont:len(text_segment[0])]\n",
        "                      text =  l +\"\\t B-MED \\n\"\n",
        "                      idatzi_kasua(write_directory, text)\n",
        "                    else:\n",
        "                      l = lines[cont:len(text_segment[count])]\n",
        "                      text = l +\"\\t I-MED \\n\"\n",
        "                      idatzi_kasua(write_directory, text)\n",
        "                    count += 1\n",
        "                    cont += len(l)\n",
        "                  atera = True\n",
        "\n",
        "              else:\n",
        "                text_other_segment = tokenize(lines[cont:index_start])\n",
        "                count = 0\n",
        "                for l in text_other_segment:\n",
        "                  if l != \" \":\n",
        "                    text = l +\"\\t O \\n\"\n",
        "                    idatzi_kasua(write_directory, text)\n",
        "                    count += 1\n",
        "              \n",
        "                  cont += len(l)\n",
        "\n",
        "                '''\n",
        "              \n",
        "            \n",
        "           "
      ]
    },
    {
      "cell_type": "code",
      "execution_count": null,
      "metadata": {
        "id": "45qvSDDOCuSY"
      },
      "outputs": [],
      "source": [
        "def readBIO2_txt(filename, write_directory):\n",
        "    \n",
        "    \"\"\" Read input one by line \"\"\"\n",
        "    with open(filename) as file:\n",
        "        lines = [] #it  will contain the tittle and abstract\n",
        "        cont = 0\n",
        "        remove_list = []\n",
        "        prev_index_start = None\n",
        "        prev_index_end = -1\n",
        "        sartu  = False\n",
        "        for line in file:\n",
        "          if  \"|\" in line:\n",
        "            text_ta = (line.split(\"|\")[2]).split(\"\\n\")[0]\n",
        "            lines.extend(tokenize(text_ta))\n",
        "          else:\n",
        "            print(lines)\n",
        "            desk = line.split(\"\\t\")\n",
        "            index_start = int(desk[1])\n",
        "            index_end = int(desk[2])\n",
        "            prev = False\n",
        "            if prev_index_start == index_start:\n",
        "              del  lines[0:len(remove_list)-len(text_segment)]\n",
        "            elif  index_start < prev_index_end:\n",
        "              prev = True\n",
        "              del lines[0:len(remove_list)-len(text_segment)]\n",
        "            else:\n",
        "              del  lines[0:len(remove_list)]\n",
        "            prev_index_start = index_start\n",
        "            prev_index_end = index_end\n",
        "            text_segment = tokenize(desk[3])\n",
        "            remove_list = []\n",
        "            for l in lines:\n",
        "              if l in text_segment: #if it is in MentionTextSegment\n",
        "                cont += 1\n",
        "                if len(text_segment) == 1 and text_segment[0] == l: #entity has only one word\n",
        "                  text = \"  \".join(text_segment) + \" \" +l +\"\\t B-MED \\n\"\n",
        "                  idatzi_kasua(write_directory, text)\n",
        "                elif len(text_segment) > 1 and text_segment[0] == l: #entity has more than one word and l is the fist one\n",
        "                  sartu = True\n",
        "                  text = \"  \".join(text_segment)+ \" \"  + l +\"\\t B-MED \\n\"\n",
        "                  idatzi_kasua(write_directory, text)\n",
        "                elif  len(text_segment) > 1 and text_segment[0] != l and sartu: #entity has more than one word and l is not the fist one\n",
        "                  text = \"  \".join(text_segment)+ \" \"  + l +\"\\t I-MED \\n\"\n",
        "                  idatzi_kasua(write_directory, text)\n",
        "                remove_list.append(lines.index(l))\n",
        "\n",
        "                if cont == len(text_segment):\n",
        "                  sartu = False\n",
        "                  cont = 0\n",
        "                  break\n",
        "\n",
        "              elif  not prev: #if it is NOT  in MentionTextSegment\n",
        "                text =   \"  \".join(text_segment)+ \" \"  + l +\"\\t O \\n\"\n",
        "                idatzi_kasua(write_directory, text)\n",
        "                remove_list.append(lines.index(l))\n",
        "\n",
        "            "
      ]
    },
    {
      "cell_type": "code",
      "source": [],
      "metadata": {
        "id": "-wrZJu0QaH_2"
      },
      "execution_count": null,
      "outputs": []
    }
  ],
  "metadata": {
    "accelerator": "GPU",
    "colab": {
      "provenance": [],
      "collapsed_sections": [
        "jOv9SH_WrywL"
      ]
    },
    "gpuClass": "standard",
    "kernelspec": {
      "display_name": "Python 3",
      "name": "python3"
    },
    "language_info": {
      "name": "python"
    },
    "widgets": {
      "application/vnd.jupyter.widget-state+json": {
        "171e75e8e92643e29face0cac95eb331": {
          "model_module": "@jupyter-widgets/controls",
          "model_name": "HBoxModel",
          "model_module_version": "1.5.0",
          "state": {
            "_dom_classes": [],
            "_model_module": "@jupyter-widgets/controls",
            "_model_module_version": "1.5.0",
            "_model_name": "HBoxModel",
            "_view_count": null,
            "_view_module": "@jupyter-widgets/controls",
            "_view_module_version": "1.5.0",
            "_view_name": "HBoxView",
            "box_style": "",
            "children": [
              "IPY_MODEL_ceef25f5070242f1a9b50f3fe17747de",
              "IPY_MODEL_170b96c3aefe4b1ea9a87a58c8a15ef8",
              "IPY_MODEL_d9f6d52cc0e942189a53868d35748ad9"
            ],
            "layout": "IPY_MODEL_35225c1806ec43758809b6a264dae0ca"
          }
        },
        "ceef25f5070242f1a9b50f3fe17747de": {
          "model_module": "@jupyter-widgets/controls",
          "model_name": "HTMLModel",
          "model_module_version": "1.5.0",
          "state": {
            "_dom_classes": [],
            "_model_module": "@jupyter-widgets/controls",
            "_model_module_version": "1.5.0",
            "_model_name": "HTMLModel",
            "_view_count": null,
            "_view_module": "@jupyter-widgets/controls",
            "_view_module_version": "1.5.0",
            "_view_name": "HTMLView",
            "description": "",
            "description_tooltip": null,
            "layout": "IPY_MODEL_b3733cbf48c845e0a3a160810bca52d8",
            "placeholder": "​",
            "style": "IPY_MODEL_235502c6079d4a309cf5c97ca6a3ce04",
            "value": "Downloading: 100%"
          }
        },
        "170b96c3aefe4b1ea9a87a58c8a15ef8": {
          "model_module": "@jupyter-widgets/controls",
          "model_name": "FloatProgressModel",
          "model_module_version": "1.5.0",
          "state": {
            "_dom_classes": [],
            "_model_module": "@jupyter-widgets/controls",
            "_model_module_version": "1.5.0",
            "_model_name": "FloatProgressModel",
            "_view_count": null,
            "_view_module": "@jupyter-widgets/controls",
            "_view_module_version": "1.5.0",
            "_view_name": "ProgressView",
            "bar_style": "success",
            "description": "",
            "description_tooltip": null,
            "layout": "IPY_MODEL_58311249e05344e08bae64e5cf2774af",
            "max": 231508,
            "min": 0,
            "orientation": "horizontal",
            "style": "IPY_MODEL_4ba03b2a55a04f079838bde6974d47e3",
            "value": 231508
          }
        },
        "d9f6d52cc0e942189a53868d35748ad9": {
          "model_module": "@jupyter-widgets/controls",
          "model_name": "HTMLModel",
          "model_module_version": "1.5.0",
          "state": {
            "_dom_classes": [],
            "_model_module": "@jupyter-widgets/controls",
            "_model_module_version": "1.5.0",
            "_model_name": "HTMLModel",
            "_view_count": null,
            "_view_module": "@jupyter-widgets/controls",
            "_view_module_version": "1.5.0",
            "_view_name": "HTMLView",
            "description": "",
            "description_tooltip": null,
            "layout": "IPY_MODEL_cfe495110dda479d9e6e59fc9a356aec",
            "placeholder": "​",
            "style": "IPY_MODEL_4320c38ba45a46129472128e80ea644d",
            "value": " 232k/232k [00:00&lt;00:00, 272kB/s]"
          }
        },
        "35225c1806ec43758809b6a264dae0ca": {
          "model_module": "@jupyter-widgets/base",
          "model_name": "LayoutModel",
          "model_module_version": "1.2.0",
          "state": {
            "_model_module": "@jupyter-widgets/base",
            "_model_module_version": "1.2.0",
            "_model_name": "LayoutModel",
            "_view_count": null,
            "_view_module": "@jupyter-widgets/base",
            "_view_module_version": "1.2.0",
            "_view_name": "LayoutView",
            "align_content": null,
            "align_items": null,
            "align_self": null,
            "border": null,
            "bottom": null,
            "display": null,
            "flex": null,
            "flex_flow": null,
            "grid_area": null,
            "grid_auto_columns": null,
            "grid_auto_flow": null,
            "grid_auto_rows": null,
            "grid_column": null,
            "grid_gap": null,
            "grid_row": null,
            "grid_template_areas": null,
            "grid_template_columns": null,
            "grid_template_rows": null,
            "height": null,
            "justify_content": null,
            "justify_items": null,
            "left": null,
            "margin": null,
            "max_height": null,
            "max_width": null,
            "min_height": null,
            "min_width": null,
            "object_fit": null,
            "object_position": null,
            "order": null,
            "overflow": null,
            "overflow_x": null,
            "overflow_y": null,
            "padding": null,
            "right": null,
            "top": null,
            "visibility": null,
            "width": null
          }
        },
        "b3733cbf48c845e0a3a160810bca52d8": {
          "model_module": "@jupyter-widgets/base",
          "model_name": "LayoutModel",
          "model_module_version": "1.2.0",
          "state": {
            "_model_module": "@jupyter-widgets/base",
            "_model_module_version": "1.2.0",
            "_model_name": "LayoutModel",
            "_view_count": null,
            "_view_module": "@jupyter-widgets/base",
            "_view_module_version": "1.2.0",
            "_view_name": "LayoutView",
            "align_content": null,
            "align_items": null,
            "align_self": null,
            "border": null,
            "bottom": null,
            "display": null,
            "flex": null,
            "flex_flow": null,
            "grid_area": null,
            "grid_auto_columns": null,
            "grid_auto_flow": null,
            "grid_auto_rows": null,
            "grid_column": null,
            "grid_gap": null,
            "grid_row": null,
            "grid_template_areas": null,
            "grid_template_columns": null,
            "grid_template_rows": null,
            "height": null,
            "justify_content": null,
            "justify_items": null,
            "left": null,
            "margin": null,
            "max_height": null,
            "max_width": null,
            "min_height": null,
            "min_width": null,
            "object_fit": null,
            "object_position": null,
            "order": null,
            "overflow": null,
            "overflow_x": null,
            "overflow_y": null,
            "padding": null,
            "right": null,
            "top": null,
            "visibility": null,
            "width": null
          }
        },
        "235502c6079d4a309cf5c97ca6a3ce04": {
          "model_module": "@jupyter-widgets/controls",
          "model_name": "DescriptionStyleModel",
          "model_module_version": "1.5.0",
          "state": {
            "_model_module": "@jupyter-widgets/controls",
            "_model_module_version": "1.5.0",
            "_model_name": "DescriptionStyleModel",
            "_view_count": null,
            "_view_module": "@jupyter-widgets/base",
            "_view_module_version": "1.2.0",
            "_view_name": "StyleView",
            "description_width": ""
          }
        },
        "58311249e05344e08bae64e5cf2774af": {
          "model_module": "@jupyter-widgets/base",
          "model_name": "LayoutModel",
          "model_module_version": "1.2.0",
          "state": {
            "_model_module": "@jupyter-widgets/base",
            "_model_module_version": "1.2.0",
            "_model_name": "LayoutModel",
            "_view_count": null,
            "_view_module": "@jupyter-widgets/base",
            "_view_module_version": "1.2.0",
            "_view_name": "LayoutView",
            "align_content": null,
            "align_items": null,
            "align_self": null,
            "border": null,
            "bottom": null,
            "display": null,
            "flex": null,
            "flex_flow": null,
            "grid_area": null,
            "grid_auto_columns": null,
            "grid_auto_flow": null,
            "grid_auto_rows": null,
            "grid_column": null,
            "grid_gap": null,
            "grid_row": null,
            "grid_template_areas": null,
            "grid_template_columns": null,
            "grid_template_rows": null,
            "height": null,
            "justify_content": null,
            "justify_items": null,
            "left": null,
            "margin": null,
            "max_height": null,
            "max_width": null,
            "min_height": null,
            "min_width": null,
            "object_fit": null,
            "object_position": null,
            "order": null,
            "overflow": null,
            "overflow_x": null,
            "overflow_y": null,
            "padding": null,
            "right": null,
            "top": null,
            "visibility": null,
            "width": null
          }
        },
        "4ba03b2a55a04f079838bde6974d47e3": {
          "model_module": "@jupyter-widgets/controls",
          "model_name": "ProgressStyleModel",
          "model_module_version": "1.5.0",
          "state": {
            "_model_module": "@jupyter-widgets/controls",
            "_model_module_version": "1.5.0",
            "_model_name": "ProgressStyleModel",
            "_view_count": null,
            "_view_module": "@jupyter-widgets/base",
            "_view_module_version": "1.2.0",
            "_view_name": "StyleView",
            "bar_color": null,
            "description_width": ""
          }
        },
        "cfe495110dda479d9e6e59fc9a356aec": {
          "model_module": "@jupyter-widgets/base",
          "model_name": "LayoutModel",
          "model_module_version": "1.2.0",
          "state": {
            "_model_module": "@jupyter-widgets/base",
            "_model_module_version": "1.2.0",
            "_model_name": "LayoutModel",
            "_view_count": null,
            "_view_module": "@jupyter-widgets/base",
            "_view_module_version": "1.2.0",
            "_view_name": "LayoutView",
            "align_content": null,
            "align_items": null,
            "align_self": null,
            "border": null,
            "bottom": null,
            "display": null,
            "flex": null,
            "flex_flow": null,
            "grid_area": null,
            "grid_auto_columns": null,
            "grid_auto_flow": null,
            "grid_auto_rows": null,
            "grid_column": null,
            "grid_gap": null,
            "grid_row": null,
            "grid_template_areas": null,
            "grid_template_columns": null,
            "grid_template_rows": null,
            "height": null,
            "justify_content": null,
            "justify_items": null,
            "left": null,
            "margin": null,
            "max_height": null,
            "max_width": null,
            "min_height": null,
            "min_width": null,
            "object_fit": null,
            "object_position": null,
            "order": null,
            "overflow": null,
            "overflow_x": null,
            "overflow_y": null,
            "padding": null,
            "right": null,
            "top": null,
            "visibility": null,
            "width": null
          }
        },
        "4320c38ba45a46129472128e80ea644d": {
          "model_module": "@jupyter-widgets/controls",
          "model_name": "DescriptionStyleModel",
          "model_module_version": "1.5.0",
          "state": {
            "_model_module": "@jupyter-widgets/controls",
            "_model_module_version": "1.5.0",
            "_model_name": "DescriptionStyleModel",
            "_view_count": null,
            "_view_module": "@jupyter-widgets/base",
            "_view_module_version": "1.2.0",
            "_view_name": "StyleView",
            "description_width": ""
          }
        },
        "682ae2258c894ff69a66a6c3e5b08810": {
          "model_module": "@jupyter-widgets/controls",
          "model_name": "HBoxModel",
          "model_module_version": "1.5.0",
          "state": {
            "_dom_classes": [],
            "_model_module": "@jupyter-widgets/controls",
            "_model_module_version": "1.5.0",
            "_model_name": "HBoxModel",
            "_view_count": null,
            "_view_module": "@jupyter-widgets/controls",
            "_view_module_version": "1.5.0",
            "_view_name": "HBoxView",
            "box_style": "",
            "children": [
              "IPY_MODEL_4672e927aeca49a69babae47e3b444cb",
              "IPY_MODEL_93347882ebb74c5d82b1843c859fdf1a",
              "IPY_MODEL_1e80965f84704cdca554c7ce10be82fa"
            ],
            "layout": "IPY_MODEL_5a640ee1f4ff47469ec683655c068500"
          }
        },
        "4672e927aeca49a69babae47e3b444cb": {
          "model_module": "@jupyter-widgets/controls",
          "model_name": "HTMLModel",
          "model_module_version": "1.5.0",
          "state": {
            "_dom_classes": [],
            "_model_module": "@jupyter-widgets/controls",
            "_model_module_version": "1.5.0",
            "_model_name": "HTMLModel",
            "_view_count": null,
            "_view_module": "@jupyter-widgets/controls",
            "_view_module_version": "1.5.0",
            "_view_name": "HTMLView",
            "description": "",
            "description_tooltip": null,
            "layout": "IPY_MODEL_784ea82479d347b58ba595392a6ef5ff",
            "placeholder": "​",
            "style": "IPY_MODEL_ec55826eaf684384a5fafe5fda60c8b8",
            "value": "Downloading: 100%"
          }
        },
        "93347882ebb74c5d82b1843c859fdf1a": {
          "model_module": "@jupyter-widgets/controls",
          "model_name": "FloatProgressModel",
          "model_module_version": "1.5.0",
          "state": {
            "_dom_classes": [],
            "_model_module": "@jupyter-widgets/controls",
            "_model_module_version": "1.5.0",
            "_model_name": "FloatProgressModel",
            "_view_count": null,
            "_view_module": "@jupyter-widgets/controls",
            "_view_module_version": "1.5.0",
            "_view_name": "ProgressView",
            "bar_style": "success",
            "description": "",
            "description_tooltip": null,
            "layout": "IPY_MODEL_fab91904fe704f268f6a03fcd1928f6c",
            "max": 383,
            "min": 0,
            "orientation": "horizontal",
            "style": "IPY_MODEL_bc64d8fad89245bb951d6fd544d2172f",
            "value": 383
          }
        },
        "1e80965f84704cdca554c7ce10be82fa": {
          "model_module": "@jupyter-widgets/controls",
          "model_name": "HTMLModel",
          "model_module_version": "1.5.0",
          "state": {
            "_dom_classes": [],
            "_model_module": "@jupyter-widgets/controls",
            "_model_module_version": "1.5.0",
            "_model_name": "HTMLModel",
            "_view_count": null,
            "_view_module": "@jupyter-widgets/controls",
            "_view_module_version": "1.5.0",
            "_view_name": "HTMLView",
            "description": "",
            "description_tooltip": null,
            "layout": "IPY_MODEL_f9728ce716a943eeb9b00ede73c879b5",
            "placeholder": "​",
            "style": "IPY_MODEL_a0218bb909914431a3b5f14f16395d78",
            "value": " 383/383 [00:00&lt;00:00, 12.0kB/s]"
          }
        },
        "5a640ee1f4ff47469ec683655c068500": {
          "model_module": "@jupyter-widgets/base",
          "model_name": "LayoutModel",
          "model_module_version": "1.2.0",
          "state": {
            "_model_module": "@jupyter-widgets/base",
            "_model_module_version": "1.2.0",
            "_model_name": "LayoutModel",
            "_view_count": null,
            "_view_module": "@jupyter-widgets/base",
            "_view_module_version": "1.2.0",
            "_view_name": "LayoutView",
            "align_content": null,
            "align_items": null,
            "align_self": null,
            "border": null,
            "bottom": null,
            "display": null,
            "flex": null,
            "flex_flow": null,
            "grid_area": null,
            "grid_auto_columns": null,
            "grid_auto_flow": null,
            "grid_auto_rows": null,
            "grid_column": null,
            "grid_gap": null,
            "grid_row": null,
            "grid_template_areas": null,
            "grid_template_columns": null,
            "grid_template_rows": null,
            "height": null,
            "justify_content": null,
            "justify_items": null,
            "left": null,
            "margin": null,
            "max_height": null,
            "max_width": null,
            "min_height": null,
            "min_width": null,
            "object_fit": null,
            "object_position": null,
            "order": null,
            "overflow": null,
            "overflow_x": null,
            "overflow_y": null,
            "padding": null,
            "right": null,
            "top": null,
            "visibility": null,
            "width": null
          }
        },
        "784ea82479d347b58ba595392a6ef5ff": {
          "model_module": "@jupyter-widgets/base",
          "model_name": "LayoutModel",
          "model_module_version": "1.2.0",
          "state": {
            "_model_module": "@jupyter-widgets/base",
            "_model_module_version": "1.2.0",
            "_model_name": "LayoutModel",
            "_view_count": null,
            "_view_module": "@jupyter-widgets/base",
            "_view_module_version": "1.2.0",
            "_view_name": "LayoutView",
            "align_content": null,
            "align_items": null,
            "align_self": null,
            "border": null,
            "bottom": null,
            "display": null,
            "flex": null,
            "flex_flow": null,
            "grid_area": null,
            "grid_auto_columns": null,
            "grid_auto_flow": null,
            "grid_auto_rows": null,
            "grid_column": null,
            "grid_gap": null,
            "grid_row": null,
            "grid_template_areas": null,
            "grid_template_columns": null,
            "grid_template_rows": null,
            "height": null,
            "justify_content": null,
            "justify_items": null,
            "left": null,
            "margin": null,
            "max_height": null,
            "max_width": null,
            "min_height": null,
            "min_width": null,
            "object_fit": null,
            "object_position": null,
            "order": null,
            "overflow": null,
            "overflow_x": null,
            "overflow_y": null,
            "padding": null,
            "right": null,
            "top": null,
            "visibility": null,
            "width": null
          }
        },
        "ec55826eaf684384a5fafe5fda60c8b8": {
          "model_module": "@jupyter-widgets/controls",
          "model_name": "DescriptionStyleModel",
          "model_module_version": "1.5.0",
          "state": {
            "_model_module": "@jupyter-widgets/controls",
            "_model_module_version": "1.5.0",
            "_model_name": "DescriptionStyleModel",
            "_view_count": null,
            "_view_module": "@jupyter-widgets/base",
            "_view_module_version": "1.2.0",
            "_view_name": "StyleView",
            "description_width": ""
          }
        },
        "fab91904fe704f268f6a03fcd1928f6c": {
          "model_module": "@jupyter-widgets/base",
          "model_name": "LayoutModel",
          "model_module_version": "1.2.0",
          "state": {
            "_model_module": "@jupyter-widgets/base",
            "_model_module_version": "1.2.0",
            "_model_name": "LayoutModel",
            "_view_count": null,
            "_view_module": "@jupyter-widgets/base",
            "_view_module_version": "1.2.0",
            "_view_name": "LayoutView",
            "align_content": null,
            "align_items": null,
            "align_self": null,
            "border": null,
            "bottom": null,
            "display": null,
            "flex": null,
            "flex_flow": null,
            "grid_area": null,
            "grid_auto_columns": null,
            "grid_auto_flow": null,
            "grid_auto_rows": null,
            "grid_column": null,
            "grid_gap": null,
            "grid_row": null,
            "grid_template_areas": null,
            "grid_template_columns": null,
            "grid_template_rows": null,
            "height": null,
            "justify_content": null,
            "justify_items": null,
            "left": null,
            "margin": null,
            "max_height": null,
            "max_width": null,
            "min_height": null,
            "min_width": null,
            "object_fit": null,
            "object_position": null,
            "order": null,
            "overflow": null,
            "overflow_x": null,
            "overflow_y": null,
            "padding": null,
            "right": null,
            "top": null,
            "visibility": null,
            "width": null
          }
        },
        "bc64d8fad89245bb951d6fd544d2172f": {
          "model_module": "@jupyter-widgets/controls",
          "model_name": "ProgressStyleModel",
          "model_module_version": "1.5.0",
          "state": {
            "_model_module": "@jupyter-widgets/controls",
            "_model_module_version": "1.5.0",
            "_model_name": "ProgressStyleModel",
            "_view_count": null,
            "_view_module": "@jupyter-widgets/base",
            "_view_module_version": "1.2.0",
            "_view_name": "StyleView",
            "bar_color": null,
            "description_width": ""
          }
        },
        "f9728ce716a943eeb9b00ede73c879b5": {
          "model_module": "@jupyter-widgets/base",
          "model_name": "LayoutModel",
          "model_module_version": "1.2.0",
          "state": {
            "_model_module": "@jupyter-widgets/base",
            "_model_module_version": "1.2.0",
            "_model_name": "LayoutModel",
            "_view_count": null,
            "_view_module": "@jupyter-widgets/base",
            "_view_module_version": "1.2.0",
            "_view_name": "LayoutView",
            "align_content": null,
            "align_items": null,
            "align_self": null,
            "border": null,
            "bottom": null,
            "display": null,
            "flex": null,
            "flex_flow": null,
            "grid_area": null,
            "grid_auto_columns": null,
            "grid_auto_flow": null,
            "grid_auto_rows": null,
            "grid_column": null,
            "grid_gap": null,
            "grid_row": null,
            "grid_template_areas": null,
            "grid_template_columns": null,
            "grid_template_rows": null,
            "height": null,
            "justify_content": null,
            "justify_items": null,
            "left": null,
            "margin": null,
            "max_height": null,
            "max_width": null,
            "min_height": null,
            "min_width": null,
            "object_fit": null,
            "object_position": null,
            "order": null,
            "overflow": null,
            "overflow_x": null,
            "overflow_y": null,
            "padding": null,
            "right": null,
            "top": null,
            "visibility": null,
            "width": null
          }
        },
        "a0218bb909914431a3b5f14f16395d78": {
          "model_module": "@jupyter-widgets/controls",
          "model_name": "DescriptionStyleModel",
          "model_module_version": "1.5.0",
          "state": {
            "_model_module": "@jupyter-widgets/controls",
            "_model_module_version": "1.5.0",
            "_model_name": "DescriptionStyleModel",
            "_view_count": null,
            "_view_module": "@jupyter-widgets/base",
            "_view_module_version": "1.2.0",
            "_view_name": "StyleView",
            "description_width": ""
          }
        },
        "4d6bbbcd6ffd4456a14652b90a797635": {
          "model_module": "@jupyter-widgets/controls",
          "model_name": "HBoxModel",
          "model_module_version": "1.5.0",
          "state": {
            "_dom_classes": [],
            "_model_module": "@jupyter-widgets/controls",
            "_model_module_version": "1.5.0",
            "_model_name": "HBoxModel",
            "_view_count": null,
            "_view_module": "@jupyter-widgets/controls",
            "_view_module_version": "1.5.0",
            "_view_name": "HBoxView",
            "box_style": "",
            "children": [
              "IPY_MODEL_32bc4340143b4b6095be20ff40e01a63",
              "IPY_MODEL_8282722d6d6e498a824d22b07cb8544d",
              "IPY_MODEL_cd42904b424f44bb96fc563ef834c8f7"
            ],
            "layout": "IPY_MODEL_e8f131b001324748a783da48dbb28f57"
          }
        },
        "32bc4340143b4b6095be20ff40e01a63": {
          "model_module": "@jupyter-widgets/controls",
          "model_name": "HTMLModel",
          "model_module_version": "1.5.0",
          "state": {
            "_dom_classes": [],
            "_model_module": "@jupyter-widgets/controls",
            "_model_module_version": "1.5.0",
            "_model_name": "HTMLModel",
            "_view_count": null,
            "_view_module": "@jupyter-widgets/controls",
            "_view_module_version": "1.5.0",
            "_view_name": "HTMLView",
            "description": "",
            "description_tooltip": null,
            "layout": "IPY_MODEL_5ea90aa95d364b3e92831a3ba40ad101",
            "placeholder": "​",
            "style": "IPY_MODEL_9f7e8ab0ed964ad3a70734c0b9657b6e",
            "value": "Downloading: 100%"
          }
        },
        "8282722d6d6e498a824d22b07cb8544d": {
          "model_module": "@jupyter-widgets/controls",
          "model_name": "FloatProgressModel",
          "model_module_version": "1.5.0",
          "state": {
            "_dom_classes": [],
            "_model_module": "@jupyter-widgets/controls",
            "_model_module_version": "1.5.0",
            "_model_name": "FloatProgressModel",
            "_view_count": null,
            "_view_module": "@jupyter-widgets/controls",
            "_view_module_version": "1.5.0",
            "_view_name": "ProgressView",
            "bar_style": "success",
            "description": "",
            "description_tooltip": null,
            "layout": "IPY_MODEL_32a05a42df77446a8ec19c77254a606d",
            "max": 116252865,
            "min": 0,
            "orientation": "horizontal",
            "style": "IPY_MODEL_4c60e37a15c74869a36905cd0eb17eb9",
            "value": 116252865
          }
        },
        "cd42904b424f44bb96fc563ef834c8f7": {
          "model_module": "@jupyter-widgets/controls",
          "model_name": "HTMLModel",
          "model_module_version": "1.5.0",
          "state": {
            "_dom_classes": [],
            "_model_module": "@jupyter-widgets/controls",
            "_model_module_version": "1.5.0",
            "_model_name": "HTMLModel",
            "_view_count": null,
            "_view_module": "@jupyter-widgets/controls",
            "_view_module_version": "1.5.0",
            "_view_name": "HTMLView",
            "description": "",
            "description_tooltip": null,
            "layout": "IPY_MODEL_5bc58fa02c8a4ed79a1aad4137894bea",
            "placeholder": "​",
            "style": "IPY_MODEL_9f4159fd40e343c69c3d23d0e4f5d009",
            "value": " 116M/116M [00:02&lt;00:00, 38.9MB/s]"
          }
        },
        "e8f131b001324748a783da48dbb28f57": {
          "model_module": "@jupyter-widgets/base",
          "model_name": "LayoutModel",
          "model_module_version": "1.2.0",
          "state": {
            "_model_module": "@jupyter-widgets/base",
            "_model_module_version": "1.2.0",
            "_model_name": "LayoutModel",
            "_view_count": null,
            "_view_module": "@jupyter-widgets/base",
            "_view_module_version": "1.2.0",
            "_view_name": "LayoutView",
            "align_content": null,
            "align_items": null,
            "align_self": null,
            "border": null,
            "bottom": null,
            "display": null,
            "flex": null,
            "flex_flow": null,
            "grid_area": null,
            "grid_auto_columns": null,
            "grid_auto_flow": null,
            "grid_auto_rows": null,
            "grid_column": null,
            "grid_gap": null,
            "grid_row": null,
            "grid_template_areas": null,
            "grid_template_columns": null,
            "grid_template_rows": null,
            "height": null,
            "justify_content": null,
            "justify_items": null,
            "left": null,
            "margin": null,
            "max_height": null,
            "max_width": null,
            "min_height": null,
            "min_width": null,
            "object_fit": null,
            "object_position": null,
            "order": null,
            "overflow": null,
            "overflow_x": null,
            "overflow_y": null,
            "padding": null,
            "right": null,
            "top": null,
            "visibility": null,
            "width": null
          }
        },
        "5ea90aa95d364b3e92831a3ba40ad101": {
          "model_module": "@jupyter-widgets/base",
          "model_name": "LayoutModel",
          "model_module_version": "1.2.0",
          "state": {
            "_model_module": "@jupyter-widgets/base",
            "_model_module_version": "1.2.0",
            "_model_name": "LayoutModel",
            "_view_count": null,
            "_view_module": "@jupyter-widgets/base",
            "_view_module_version": "1.2.0",
            "_view_name": "LayoutView",
            "align_content": null,
            "align_items": null,
            "align_self": null,
            "border": null,
            "bottom": null,
            "display": null,
            "flex": null,
            "flex_flow": null,
            "grid_area": null,
            "grid_auto_columns": null,
            "grid_auto_flow": null,
            "grid_auto_rows": null,
            "grid_column": null,
            "grid_gap": null,
            "grid_row": null,
            "grid_template_areas": null,
            "grid_template_columns": null,
            "grid_template_rows": null,
            "height": null,
            "justify_content": null,
            "justify_items": null,
            "left": null,
            "margin": null,
            "max_height": null,
            "max_width": null,
            "min_height": null,
            "min_width": null,
            "object_fit": null,
            "object_position": null,
            "order": null,
            "overflow": null,
            "overflow_x": null,
            "overflow_y": null,
            "padding": null,
            "right": null,
            "top": null,
            "visibility": null,
            "width": null
          }
        },
        "9f7e8ab0ed964ad3a70734c0b9657b6e": {
          "model_module": "@jupyter-widgets/controls",
          "model_name": "DescriptionStyleModel",
          "model_module_version": "1.5.0",
          "state": {
            "_model_module": "@jupyter-widgets/controls",
            "_model_module_version": "1.5.0",
            "_model_name": "DescriptionStyleModel",
            "_view_count": null,
            "_view_module": "@jupyter-widgets/base",
            "_view_module_version": "1.2.0",
            "_view_name": "StyleView",
            "description_width": ""
          }
        },
        "32a05a42df77446a8ec19c77254a606d": {
          "model_module": "@jupyter-widgets/base",
          "model_name": "LayoutModel",
          "model_module_version": "1.2.0",
          "state": {
            "_model_module": "@jupyter-widgets/base",
            "_model_module_version": "1.2.0",
            "_model_name": "LayoutModel",
            "_view_count": null,
            "_view_module": "@jupyter-widgets/base",
            "_view_module_version": "1.2.0",
            "_view_name": "LayoutView",
            "align_content": null,
            "align_items": null,
            "align_self": null,
            "border": null,
            "bottom": null,
            "display": null,
            "flex": null,
            "flex_flow": null,
            "grid_area": null,
            "grid_auto_columns": null,
            "grid_auto_flow": null,
            "grid_auto_rows": null,
            "grid_column": null,
            "grid_gap": null,
            "grid_row": null,
            "grid_template_areas": null,
            "grid_template_columns": null,
            "grid_template_rows": null,
            "height": null,
            "justify_content": null,
            "justify_items": null,
            "left": null,
            "margin": null,
            "max_height": null,
            "max_width": null,
            "min_height": null,
            "min_width": null,
            "object_fit": null,
            "object_position": null,
            "order": null,
            "overflow": null,
            "overflow_x": null,
            "overflow_y": null,
            "padding": null,
            "right": null,
            "top": null,
            "visibility": null,
            "width": null
          }
        },
        "4c60e37a15c74869a36905cd0eb17eb9": {
          "model_module": "@jupyter-widgets/controls",
          "model_name": "ProgressStyleModel",
          "model_module_version": "1.5.0",
          "state": {
            "_model_module": "@jupyter-widgets/controls",
            "_model_module_version": "1.5.0",
            "_model_name": "ProgressStyleModel",
            "_view_count": null,
            "_view_module": "@jupyter-widgets/base",
            "_view_module_version": "1.2.0",
            "_view_name": "StyleView",
            "bar_color": null,
            "description_width": ""
          }
        },
        "5bc58fa02c8a4ed79a1aad4137894bea": {
          "model_module": "@jupyter-widgets/base",
          "model_name": "LayoutModel",
          "model_module_version": "1.2.0",
          "state": {
            "_model_module": "@jupyter-widgets/base",
            "_model_module_version": "1.2.0",
            "_model_name": "LayoutModel",
            "_view_count": null,
            "_view_module": "@jupyter-widgets/base",
            "_view_module_version": "1.2.0",
            "_view_name": "LayoutView",
            "align_content": null,
            "align_items": null,
            "align_self": null,
            "border": null,
            "bottom": null,
            "display": null,
            "flex": null,
            "flex_flow": null,
            "grid_area": null,
            "grid_auto_columns": null,
            "grid_auto_flow": null,
            "grid_auto_rows": null,
            "grid_column": null,
            "grid_gap": null,
            "grid_row": null,
            "grid_template_areas": null,
            "grid_template_columns": null,
            "grid_template_rows": null,
            "height": null,
            "justify_content": null,
            "justify_items": null,
            "left": null,
            "margin": null,
            "max_height": null,
            "max_width": null,
            "min_height": null,
            "min_width": null,
            "object_fit": null,
            "object_position": null,
            "order": null,
            "overflow": null,
            "overflow_x": null,
            "overflow_y": null,
            "padding": null,
            "right": null,
            "top": null,
            "visibility": null,
            "width": null
          }
        },
        "9f4159fd40e343c69c3d23d0e4f5d009": {
          "model_module": "@jupyter-widgets/controls",
          "model_name": "DescriptionStyleModel",
          "model_module_version": "1.5.0",
          "state": {
            "_model_module": "@jupyter-widgets/controls",
            "_model_module_version": "1.5.0",
            "_model_name": "DescriptionStyleModel",
            "_view_count": null,
            "_view_module": "@jupyter-widgets/base",
            "_view_module_version": "1.2.0",
            "_view_name": "StyleView",
            "description_width": ""
          }
        }
      }
    }
  },
  "nbformat": 4,
  "nbformat_minor": 0
}